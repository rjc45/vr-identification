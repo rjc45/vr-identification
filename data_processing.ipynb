{
 "cells": [
  {
   "cell_type": "code",
   "execution_count": 1,
   "id": "eda49862",
   "metadata": {},
   "outputs": [],
   "source": [
    "import sqlite3\n",
    "import pandas as pd\n",
    "import numpy as np\n",
    "\n",
    "con = sqlite3.connect('../summer')\n",
    "cur = con.cursor()"
   ]
  },
  {
   "cell_type": "code",
   "execution_count": 2,
   "id": "838a46cf",
   "metadata": {},
   "outputs": [
    {
     "name": "stdout",
     "output_type": "stream",
     "text": [
      "['Alonzo' 'Dax' 'Emily' 'Isabelle' 'Jake' 'Philip' 'Rishab' 'Sam' 'justin'\n",
      " 'Alex' 'Jordan']\n"
     ]
    }
   ],
   "source": [
    "TAs = ['\\'Mark\\'', '\\'vhil\\'', '\\'record\\'', '\\'Eugy\\'']\n",
    "week1_3 = pd.read_sql_query(\"\"\"SELECT PlayerName, \n",
    "HeadPos_x, HeadPos_y, HeadPos_z, \n",
    "LeftHandPos_x, LeftHandPos_y, LeftHandPos_z,\n",
    "RightHandPos_x, RightHandPos_y, RightHandPos_z,\n",
    "HeadRot_w, HeadRot_x, HeadRot_y, HeadRot_z,\n",
    "LeftHandRot_w, LeftHandRot_x, LeftHandRot_y, LeftHandRot_z,\n",
    "RightHandRot_w, RightHandRot_x, RightHandRot_y, RightHandRot_z\n",
    "FROM PersonTime\n",
    "WHERE PlayerName NOT IN ({})\n",
    "AND RecordingName = 'week1_3'\n",
    "\"\"\".format(\",\".join(TAs)), con)\n",
    "\n",
    "week_1_playernames = week1_3['PlayerName'].unique()\n",
    "print(week_1_playernames)"
   ]
  },
  {
   "cell_type": "code",
   "execution_count": 9,
   "id": "3b2edcd9",
   "metadata": {},
   "outputs": [
    {
     "name": "stdout",
     "output_type": "stream",
     "text": [
      "(24477, 609)\n",
      "(24477, 11)\n"
     ]
    }
   ],
   "source": [
    "playerIdx = {\n",
    "    'Alonzo': 0,\n",
    "    'Dax': 1,\n",
    "    'Emily': 2,\n",
    "    'Isabelle': 3,\n",
    "    'Jake': 4,\n",
    "    'Philip': 5,\n",
    "    'Rishab': 6,\n",
    "    'Sam': 7,\n",
    "    'justin': 8,\n",
    "    'Alex': 9,\n",
    "    'Jordan': 10\n",
    "}\n",
    "\n",
    "motion_input = []\n",
    "motion_output = []\n",
    "\n",
    "idx = 0\n",
    "features = []\n",
    "for index, row in week1_3.iterrows():\n",
    "    if idx == 29:        \n",
    "        motion_input.append(features)\n",
    "        features = []\n",
    "        \n",
    "        output = np.zeros(len(week_1_playernames))\n",
    "        output[playerIdx[row['PlayerName']]] = 1\n",
    "        motion_output.append(output)\n",
    "        \n",
    "        idx = 0\n",
    "    \n",
    "    features.extend((row['HeadPos_x'], row['HeadPos_y'], row['HeadPos_z'],\n",
    "                     row['LeftHandPos_x'], row['LeftHandPos_y'], row['LeftHandPos_z'],\n",
    "                     row['RightHandPos_x'], row['RightHandPos_y'], row['RightHandPos_z'],\n",
    "                     row['HeadRot_w'], row['HeadRot_x'], row['HeadRot_y'], row['HeadRot_z'],\n",
    "                     row['LeftHandRot_w'], row['LeftHandRot_x'], row['LeftHandRot_y'], row['LeftHandRot_z'],\n",
    "                     row['RightHandRot_w'], row['RightHandRot_x'], row['RightHandRot_y'], row['RightHandRot_z']))\n",
    "    idx += 1\n",
    "\n",
    "training_x = np.asarray(motion_input)\n",
    "training_y = np.asarray(motion_output)\n",
    "        \n",
    "print(training_x.shape)\n",
    "print(training_y.shape)"
   ]
  },
  {
   "cell_type": "code",
   "execution_count": 3,
   "id": "a98a36b3",
   "metadata": {},
   "outputs": [
    {
     "name": "stdout",
     "output_type": "stream",
     "text": [
      "(11830, 18)\n",
      "(11830, 11)\n"
     ]
    }
   ],
   "source": [
    "playerIdx = {\n",
    "    'Alonzo': 0,\n",
    "    'Dax': 1,\n",
    "    'Emily': 2,\n",
    "    'Isabelle': 3,\n",
    "    'Jake': 4,\n",
    "    'Philip': 5,\n",
    "    'Rishab': 6,\n",
    "    'Sam': 7,\n",
    "    'justin': 8,\n",
    "    'Alex': 9,\n",
    "    'Jordan': 10\n",
    "}\n",
    "\n",
    "motion_input = []\n",
    "motion_output = []\n",
    "idx = 0\n",
    "first = week1_3.iloc[0]\n",
    "\n",
    "# head_delta_x, y, z, lhand_delta_x, y, z, rhand_delta_x, y, z\n",
    "# total_delta_x, y, z, lhand x y z , rhand x y z\n",
    "features = []\n",
    "head_total_x, head_total_y, head_total_z = 0.0, 0.0, 0.0\n",
    "lhand_total_x, lhand_total_y, lhand_total_z = 0.0, 0.0, 0.0\n",
    "rhand_total_x, rhand_total_y, rhand_total_z = 0.0, 0.0, 0.0\n",
    "\n",
    "for index, row in week1_3.iterrows():\n",
    "    if idx == 59:\n",
    "        head_delta_x = first['HeadPos_x'] - row['HeadPos_x']\n",
    "        head_delta_y = first['HeadPos_y'] - row['HeadPos_y']\n",
    "        head_delta_z = first['HeadPos_z'] - row['HeadPos_z']\n",
    "        lhand_delta_x = first['LeftHandPos_x'] - row['LeftHandPos_x']\n",
    "        lhand_delta_y = first['LeftHandPos_y'] - row['LeftHandPos_y']\n",
    "        lhand_delta_z = first['LeftHandPos_z'] - row['LeftHandPos_z']\n",
    "        rhand_delta_x = first['RightHandPos_x'] - row['RightHandPos_x']\n",
    "        rhand_delta_y = first['RightHandPos_y'] - row['RightHandPos_y']\n",
    "        rhand_delta_z = first['RightHandPos_z'] - row['RightHandPos_z']\n",
    "        \n",
    "        motion_input.append([head_delta_x, head_delta_y, head_delta_z,\n",
    "                         lhand_delta_x, lhand_delta_y, lhand_delta_z,\n",
    "                         rhand_delta_x, rhand_delta_y, rhand_delta_z,\n",
    "                         head_total_x, head_total_y, head_total_z,\n",
    "                         lhand_total_x, lhand_total_y, lhand_total_z,\n",
    "                         rhand_total_x, rhand_total_y, rhand_total_z\n",
    "                        ])\n",
    "        \n",
    "        output = np.zeros(len(week_1_playernames))\n",
    "        output[playerIdx[row['PlayerName']]] = 1\n",
    "        motion_output.append(output)\n",
    "    \n",
    "    if idx == 60:\n",
    "        first = row\n",
    "        idx = 0\n",
    "        features = []\n",
    "        head_total_x, head_total_y, head_total_z = 0.0, 0.0, 0.0\n",
    "        lhand_total_x, lhand_total_y, lhand_total_z = 0.0, 0.0, 0.0\n",
    "        rhand_total_x, rhand_total_y, rhand_total_z = 0.0, 0.0, 0.0\n",
    "    \n",
    "    head_total_x += row['HeadPos_x']\n",
    "    head_total_y += row['HeadPos_y']\n",
    "    head_total_z += row['HeadPos_z']\n",
    "    lhand_total_x += row['LeftHandPos_x']\n",
    "    lhand_total_y += row['LeftHandPos_y']\n",
    "    lhand_total_z += row['LeftHandPos_z']\n",
    "    rhand_total_x += row['RightHandPos_x']\n",
    "    rhand_total_y += row['RightHandPos_y']\n",
    "    rhand_total_z += row['RightHandPos_z']\n",
    "    idx += 1\n",
    "\n",
    "training_x = np.asarray(motion_input)\n",
    "training_y = np.asarray(motion_output)\n",
    "        \n",
    "print(training_x.shape)\n",
    "print(training_y.shape)"
   ]
  },
  {
   "cell_type": "code",
   "execution_count": 4,
   "id": "382bc808",
   "metadata": {},
   "outputs": [
    {
     "name": "stdout",
     "output_type": "stream",
     "text": [
      "(11830, 18)\n",
      "(11830, 11)\n",
      "[[0. 0. 0. ... 0. 0. 0.]\n",
      " [0. 0. 1. ... 0. 0. 0.]\n",
      " [0. 0. 0. ... 1. 0. 0.]\n",
      " ...\n",
      " [1. 0. 0. ... 0. 0. 0.]\n",
      " [1. 0. 0. ... 0. 0. 0.]\n",
      " [1. 0. 0. ... 0. 0. 0.]]\n"
     ]
    }
   ],
   "source": [
    "print(training_x.shape)\n",
    "print(training_y.shape)\n",
    "print(training_y)"
   ]
  },
  {
   "cell_type": "code",
   "execution_count": 13,
   "id": "1061366d",
   "metadata": {},
   "outputs": [
    {
     "name": "stdout",
     "output_type": "stream",
     "text": [
      "(3189974, 22)\n"
     ]
    }
   ],
   "source": [
    "recordings = ['\\'week1_3\\'', '\\'week2_3\\'', '\\'week3_3\\'', '\\'week4_3\\'', '\\'week5_3\\'', '\\'week6_3\\'']\n",
    "students = ['\\'Alonzo\\'','\\'Dax\\'','\\'Emily\\'','\\'Isabelle\\'','\\'Jake\\'','\\'Philip\\'','\\'Rishab\\'','\\'Sam\\'',\n",
    "            '\\'justin\\'','\\'Alex\\'','\\'Jordan\\'']\n",
    "\n",
    "\n",
    "all_weeks = pd.read_sql_query(\"\"\"SELECT PlayerName, \n",
    "    HeadPos_x, HeadPos_y, HeadPos_z, \n",
    "    LeftHandPos_x, LeftHandPos_y, LeftHandPos_z,\n",
    "    RightHandPos_x, RightHandPos_y, RightHandPos_z,\n",
    "    HeadRot_w, HeadRot_x, HeadRot_y, HeadRot_z,\n",
    "    LeftHandRot_w, LeftHandRot_x, LeftHandRot_y, LeftHandRot_z,\n",
    "    RightHandRot_w, RightHandRot_x, RightHandRot_y, RightHandRot_z\n",
    "    FROM PersonTime\n",
    "    WHERE PlayerName IN ({})\n",
    "    AND RecordingName IN ({})\n",
    "    \"\"\".format(\",\".join(students), \",\".join(recordings)), con)\n",
    "\n",
    "print(all_weeks.shape)"
   ]
  },
  {
   "cell_type": "code",
   "execution_count": 14,
   "id": "54bea679",
   "metadata": {},
   "outputs": [],
   "source": [
    "def create_labels(row):\n",
    "    output = np.zeros(len(week_1_playernames))\n",
    "    output[playerIdx[row['PlayerName']]] = 1\n",
    "    return output\n",
    "\n",
    "all_weeks['label'] = all_weeks.apply(lambda x: create_labels(x), axis=1)\n"
   ]
  },
  {
   "cell_type": "code",
   "execution_count": null,
   "id": "d191a7a8",
   "metadata": {},
   "outputs": [],
   "source": []
  }
 ],
 "metadata": {
  "kernelspec": {
   "display_name": "Python 3 (ipykernel)",
   "language": "python",
   "name": "python3"
  },
  "language_info": {
   "codemirror_mode": {
    "name": "ipython",
    "version": 3
   },
   "file_extension": ".py",
   "mimetype": "text/x-python",
   "name": "python",
   "nbconvert_exporter": "python",
   "pygments_lexer": "ipython3",
   "version": "3.8.5"
  }
 },
 "nbformat": 4,
 "nbformat_minor": 5
}
