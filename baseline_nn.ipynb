{
 "cells": [
  {
   "cell_type": "code",
   "execution_count": 1,
   "id": "34089acb",
   "metadata": {},
   "outputs": [
    {
     "name": "stdout",
     "output_type": "stream",
     "text": [
      "WARNING:tensorflow:From /opt/miniconda3/lib/python3.8/site-packages/tensorflow/python/compat/v2_compat.py:107: disable_resource_variables (from tensorflow.python.ops.variable_scope) is deprecated and will be removed in a future version.\n",
      "Instructions for updating:\n",
      "non-resource variables are not supported in the long term\n"
     ]
    }
   ],
   "source": [
    "import os\n",
    "import sqlite3\n",
    "import pandas as pd\n",
    "import numpy as np\n",
    "import tensorflow.compat.v1 as tf\n",
    "tf.disable_v2_behavior()\n",
    "\n",
    "import time\n",
    "\n",
    "con = sqlite3.connect('../summer')\n",
    "cur = con.cursor()"
   ]
  },
  {
   "cell_type": "code",
   "execution_count": 2,
   "id": "c0d71ab8",
   "metadata": {},
   "outputs": [
    {
     "name": "stdout",
     "output_type": "stream",
     "text": [
      "(3189974, 21)\n",
      "(3189974, 11)\n"
     ]
    }
   ],
   "source": [
    "recordings = ['\\'week1_3\\'', '\\'week2_3\\'', '\\'week3_3\\'', '\\'week4_3\\'', '\\'week5_3\\'', '\\'week6_3\\'']\n",
    "students = ['\\'Alonzo\\'','\\'Dax\\'','\\'Emily\\'','\\'Isabelle\\'','\\'Jake\\'','\\'Philip\\'','\\'Rishab\\'','\\'Sam\\'',\n",
    "            '\\'justin\\'','\\'Alex\\'','\\'Jordan\\'']\n",
    "\n",
    "\n",
    "all_weeks = pd.read_sql_query(\"\"\"SELECT PlayerName, \n",
    "    HeadPos_x, HeadPos_y, HeadPos_z, \n",
    "    LeftHandPos_x, LeftHandPos_y, LeftHandPos_z,\n",
    "    RightHandPos_x, RightHandPos_y, RightHandPos_z,\n",
    "    HeadRot_w, HeadRot_x, HeadRot_y, HeadRot_z,\n",
    "    LeftHandRot_w, LeftHandRot_x, LeftHandRot_y, LeftHandRot_z,\n",
    "    RightHandRot_w, RightHandRot_x, RightHandRot_y, RightHandRot_z\n",
    "    FROM PersonTime\n",
    "    WHERE PlayerName IN ({})\n",
    "    AND RecordingName IN ({})\n",
    "    \"\"\".format(\",\".join(students), \",\".join(recordings)), con)\n",
    "\n",
    "playerIdx = {\n",
    "    'Alonzo': 0,\n",
    "    'Dax': 1,\n",
    "    'Emily': 2,\n",
    "    'Isabelle': 3,\n",
    "    'Jake': 4,\n",
    "    'Philip': 5,\n",
    "    'Rishab': 6,\n",
    "    'Sam': 7,\n",
    "    'justin': 8,\n",
    "    'Alex': 9,\n",
    "    'Jordan': 10\n",
    "}\n",
    "\n",
    "motion_output = []\n",
    "def create_labels(row):\n",
    "    output = np.zeros(11)\n",
    "    output[playerIdx[row['PlayerName']]] = 1\n",
    "    motion_output.append(output)\n",
    "\n",
    "all_weeks.apply(lambda x: create_labels(x), axis=1)\n",
    "training_y = np.asarray(motion_output)\n",
    "\n",
    "all_weeks = all_weeks.drop(columns=['PlayerName'])\n",
    "training_x = np.asarray(all_weeks)\n",
    "        \n",
    "print(training_x.shape)\n",
    "print(training_y.shape)"
   ]
  },
  {
   "cell_type": "code",
   "execution_count": 3,
   "id": "96807d65",
   "metadata": {},
   "outputs": [
    {
     "name": "stdout",
     "output_type": "stream",
     "text": [
      "(919446, 21)\n",
      "(919446, 11)\n"
     ]
    }
   ],
   "source": [
    "recordings_test = ['\\'week7_3\\'', '\\'week8_3\\'']\n",
    "students = ['\\'Alonzo\\'','\\'Dax\\'','\\'Emily\\'','\\'Isabelle\\'','\\'Jake\\'','\\'Philip\\'','\\'Rishab\\'','\\'Sam\\'',\n",
    "            '\\'justin\\'','\\'Alex\\'','\\'Jordan\\'']\n",
    "\n",
    "\n",
    "all_weeks_test = pd.read_sql_query(\"\"\"SELECT PlayerName, \n",
    "    HeadPos_x, HeadPos_y, HeadPos_z, \n",
    "    LeftHandPos_x, LeftHandPos_y, LeftHandPos_z,\n",
    "    RightHandPos_x, RightHandPos_y, RightHandPos_z,\n",
    "    HeadRot_w, HeadRot_x, HeadRot_y, HeadRot_z,\n",
    "    LeftHandRot_w, LeftHandRot_x, LeftHandRot_y, LeftHandRot_z,\n",
    "    RightHandRot_w, RightHandRot_x, RightHandRot_y, RightHandRot_z\n",
    "    FROM PersonTime\n",
    "    WHERE PlayerName IN ({})\n",
    "    AND RecordingName IN ({})\n",
    "    \"\"\".format(\",\".join(students), \",\".join(recordings_test)), con)\n",
    "\n",
    "motion_output = []\n",
    "all_weeks_test.apply(lambda x: create_labels(x), axis=1)\n",
    "testing_y = np.asarray(motion_output)\n",
    "\n",
    "all_weeks_test = all_weeks_test.drop(columns=['PlayerName'])\n",
    "testing_x = np.asarray(all_weeks_test)\n",
    "\n",
    "print(testing_x.shape)\n",
    "print(testing_y.shape)"
   ]
  },
  {
   "cell_type": "code",
   "execution_count": 4,
   "id": "c6d28380",
   "metadata": {},
   "outputs": [],
   "source": [
    "class Data:\n",
    "\n",
    "    def __init__(self, training_X, training_y, testing_X, testing_y, num_examples, input_dim, output_dim):\n",
    "        self.training_X = training_X\n",
    "        self.training_y = training_y\n",
    "        self.testing_X = testing_X\n",
    "        self.testing_y = testing_y\n",
    "        self.num_examples = num_examples\n",
    "        self.index_in_epoch = 0\n",
    "        self.epochs_completed = 0\n",
    "        self.input_dim = input_dim\n",
    "        self.output_dim = output_dim\n",
    "\n",
    "    def next_batch(self, batch_size):\n",
    "        start = self.index_in_epoch\n",
    "        self.index_in_epoch += batch_size\n",
    "        if self.index_in_epoch > self.num_examples:\n",
    "            self.epochs_completed += 1\n",
    "            perm = np.arange(self.num_examples)\n",
    "            np.random.shuffle(perm)\n",
    "            self.training_X = self.training_X[perm]\n",
    "            self.training_y = self.training_y[perm]\n",
    "            start = 0\n",
    "            self.index_in_epoch = batch_size\n",
    "            assert batch_size <= self.num_examples\n",
    "        end = self.index_in_epoch\n",
    "        return self.training_X[start:end], self.training_y[start:end]"
   ]
  },
  {
   "cell_type": "code",
   "execution_count": 5,
   "id": "cba3a1a0",
   "metadata": {},
   "outputs": [],
   "source": [
    "class MotionData(Data):\n",
    "\n",
    "    def __init__(self):\n",
    "        Data.__init__(self, training_x, training_y, testing_x, testing_y, 3189974, 21, 11)\n",
    "\n",
    "data = MotionData()"
   ]
  },
  {
   "cell_type": "code",
   "execution_count": 6,
   "id": "41e32cf3",
   "metadata": {},
   "outputs": [],
   "source": [
    "class ClassificationNN:\n",
    "    def __init__(self,dataset,learning_rate,training_iteration,batch_size, hidden_layer_n):\n",
    "        self.dataset = data\n",
    "\n",
    "        self.learning_rate = learning_rate\n",
    "        self.training_iteration = training_iteration\n",
    "        self.batch_size = batch_size\n",
    "        input_layer_n = self.dataset.input_dim\n",
    "        output_layer_n = self.dataset.output_dim\n",
    "        self.display_step = 3\n",
    "        \n",
    "        tf.reset_default_graph()\n",
    "\n",
    "        self.x = tf.placeholder(\"float\", [None, input_layer_n])\n",
    "        self.y = tf.placeholder(\"float\", [None, output_layer_n])\n",
    "\n",
    "        W1 = tf.Variable(tf.random_normal([input_layer_n, hidden_layer_n], stddev=0.1), name='W1')\n",
    "        W2 = tf.Variable(tf.random_normal([hidden_layer_n, output_layer_n], stddev=0.1), name='W2')\n",
    "\n",
    "        b1 = tf.Variable(tf.random_normal([hidden_layer_n], stddev=0.1), name='b1')\n",
    "        b2 = tf.Variable(tf.random_normal([output_layer_n], stddev=0.1), name='b2')\n",
    "\n",
    "        layer_1 = tf.nn.sigmoid(tf.matmul(self.x, W1) + b1)\n",
    "        layer_2 = tf.nn.softmax(tf.matmul(layer_1, W2) + b2)\n",
    "        self.model = layer_2\n",
    "\n",
    "        self.objective_function = tf.sqrt(tf.reduce_sum(tf.square(tf.subtract(self.model, self.y))))\n",
    "\n",
    "        self.optimizer = tf.train.GradientDescentOptimizer(learning_rate).minimize(self.objective_function)\n",
    "\n",
    "        self.init = tf.global_variables_initializer()\n",
    "        \n",
    "        saver = tf.train.Saver()\n",
    "        \n",
    "        with tf.Session() as sess:\n",
    "            print('start training: ', time.strftime(\"%H:%M:%S\", time.localtime()))\n",
    "            sess.run(self.init)\n",
    "            for iteration in range(self.training_iteration):\n",
    "                avg_cost = 0\n",
    "                num_batches = int(self.dataset.num_examples/self.batch_size)\n",
    "                for i in range(num_batches):\n",
    "                    batch_xs, batch_ys = self.dataset.next_batch(self.batch_size)\n",
    "                    sess.run(self.optimizer, feed_dict={self.x: batch_xs, self.y: batch_ys})\n",
    "                    avg_cost += sess.run(self.objective_function, feed_dict={self.x: batch_xs, self.y: batch_ys})/num_batches\n",
    "                if iteration % self.display_step == 0:\n",
    "                    print(\"Epoch:\" + str(iteration+1) +  \" cost: \", \"{:.9f}\".format(avg_cost))\n",
    "\n",
    "            print(\"Training completed!\", time.strftime(\"%H:%M:%S\", time.localtime()))\n",
    "  \n",
    "            predictions = tf.equal(tf.argmax(self.model, 1), tf.argmax(self.y, 1))\n",
    "            accuracy = tf.reduce_mean(tf.cast(predictions,  tf.float64))\n",
    "            print(\"Testing accuracy:\", accuracy.eval({self.x: self.dataset.testing_X, self.y: self.dataset.testing_y}))\n",
    "            \n",
    "            end_time = str(time.strftime(\"%d_%H_%M_%S\", time.localtime()))\n",
    "            os.makedirs('models_basic_nn/' + end_time)\n",
    "            \n",
    "            np.savetxt('models_basic_nn/' + end_time + 'W1.csv', W1.eval())\n",
    "            np.savetxt('models_basic_nn/' + end_time + 'W2.csv', W2.eval())\n",
    "            np.savetxt('models_basic_nn/' + end_time + 'b1.csv', b1.eval())\n",
    "            np.savetxt('models_basic_nn/' + end_time + 'b2.csv', b2.eval())\n",
    "            \n",
    "            print(saver._var_list)\n",
    "            saver.save(sess, 'models_basic_nn/' + end_time + '/basic_nn_' + end_time)"
   ]
  },
  {
   "cell_type": "code",
   "execution_count": 7,
   "id": "621918c6",
   "metadata": {},
   "outputs": [
    {
     "name": "stdout",
     "output_type": "stream",
     "text": [
      "start training:  17:22:41\n"
     ]
    },
    {
     "name": "stderr",
     "output_type": "stream",
     "text": [
      "2022-04-19 17:22:41.957990: I tensorflow/core/platform/cpu_feature_guard.cc:151] This TensorFlow binary is optimized with oneAPI Deep Neural Network Library (oneDNN) to use the following CPU instructions in performance-critical operations:  AVX2 FMA\n",
      "To enable them in other operations, rebuild TensorFlow with the appropriate compiler flags.\n"
     ]
    },
    {
     "name": "stdout",
     "output_type": "stream",
     "text": [
      "Epoch:1 cost:  4.603098633\n",
      "Epoch:4 cost:  4.381387493\n",
      "Epoch:7 cost:  3.522129298\n",
      "Epoch:10 cost:  3.268951338\n",
      "Epoch:13 cost:  3.168045434\n",
      "Epoch:16 cost:  3.056314927\n",
      "Epoch:19 cost:  2.913836595\n",
      "Epoch:22 cost:  2.800207165\n",
      "Epoch:25 cost:  2.872795140\n",
      "Epoch:28 cost:  2.898790318\n",
      "Epoch:31 cost:  2.969932063\n",
      "Epoch:34 cost:  2.852505961\n",
      "Epoch:37 cost:  2.922426345\n",
      "Epoch:40 cost:  2.828262506\n",
      "Epoch:43 cost:  2.704886043\n",
      "Epoch:46 cost:  2.758890736\n",
      "Epoch:49 cost:  2.675928972\n",
      "Epoch:52 cost:  2.670455876\n",
      "Epoch:55 cost:  2.829352537\n",
      "Epoch:58 cost:  2.732609188\n",
      "Epoch:61 cost:  2.759842108\n",
      "Epoch:64 cost:  2.979058686\n",
      "Epoch:67 cost:  2.898624289\n",
      "Epoch:70 cost:  2.942134273\n",
      "Epoch:73 cost:  2.799542480\n",
      "Epoch:76 cost:  2.764407479\n",
      "Epoch:79 cost:  2.724114043\n",
      "Epoch:82 cost:  2.636562307\n",
      "Epoch:85 cost:  2.631493709\n",
      "Epoch:88 cost:  2.619046361\n",
      "Epoch:91 cost:  2.562664514\n",
      "Epoch:94 cost:  2.704714945\n",
      "Epoch:97 cost:  2.927868365\n",
      "Epoch:100 cost:  2.766196925\n",
      "Training completed! 19:02:30\n",
      "Testing accuracy: 0.31811221104882725\n",
      "[<tf.Variable 'W1:0' shape=(21, 200) dtype=float32_ref>, <tf.Variable 'W2:0' shape=(200, 11) dtype=float32_ref>, <tf.Variable 'b1:0' shape=(200,) dtype=float32_ref>, <tf.Variable 'b2:0' shape=(11,) dtype=float32_ref>]\n"
     ]
    }
   ],
   "source": [
    "nn = ClassificationNN(data, learning_rate=0.015,batch_size=50,training_iteration=100, hidden_layer_n=200)"
   ]
  },
  {
   "cell_type": "code",
   "execution_count": null,
   "id": "d1274c42",
   "metadata": {},
   "outputs": [],
   "source": []
  }
 ],
 "metadata": {
  "kernelspec": {
   "display_name": "Python 3 (ipykernel)",
   "language": "python",
   "name": "python3"
  },
  "language_info": {
   "codemirror_mode": {
    "name": "ipython",
    "version": 3
   },
   "file_extension": ".py",
   "mimetype": "text/x-python",
   "name": "python",
   "nbconvert_exporter": "python",
   "pygments_lexer": "ipython3",
   "version": "3.8.5"
  }
 },
 "nbformat": 4,
 "nbformat_minor": 5
}
