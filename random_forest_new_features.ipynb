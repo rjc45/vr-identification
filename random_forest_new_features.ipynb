{
 "cells": [
  {
   "cell_type": "code",
   "execution_count": 1,
   "id": "c2c24ddc",
   "metadata": {},
   "outputs": [],
   "source": [
    "import math\n",
    "import numpy as np\n",
    "import pandas as pd\n",
    "from sklearn.model_selection import train_test_split\n",
    "from sklearn.preprocessing import StandardScaler\n",
    "from sklearn.ensemble import RandomForestClassifier\n",
    "from sklearn.metrics import accuracy_score\n",
    "\n",
    "import sqlite3\n",
    "con = sqlite3.connect('../summer')\n",
    "cur = con.cursor()"
   ]
  },
  {
   "cell_type": "code",
   "execution_count": 2,
   "id": "a7952645",
   "metadata": {},
   "outputs": [
    {
     "name": "stdout",
     "output_type": "stream",
     "text": [
      "(4109420, 23)\n"
     ]
    }
   ],
   "source": [
    "students = ['\\'Alonzo\\'','\\'Dax\\'','\\'Emily\\'','\\'Isabelle\\'','\\'Jake\\'','\\'Philip\\'','\\'Rishab\\'','\\'Sam\\'',\n",
    "            '\\'justin\\'','\\'Alex\\'','\\'Jordan\\'']\n",
    "recordings = ['\\'week1_3\\'', '\\'week2_3\\'', '\\'week3_3\\'', '\\'week4_3\\'', '\\'week5_3\\'', '\\'week6_3\\'', '\\'week7_3\\'', '\\'week8_3\\'']\n",
    "\n",
    "all_weeks = pd.read_sql_query(\"\"\"SELECT PlayerName, RecordingName,\n",
    "    HeadPos_x, HeadPos_y, HeadPos_z, \n",
    "    LeftHandPos_x, LeftHandPos_y, LeftHandPos_z,\n",
    "    RightHandPos_x, RightHandPos_y, RightHandPos_z,\n",
    "    HeadRot_w, HeadRot_x, HeadRot_y, HeadRot_z,\n",
    "    LeftHandRot_w, LeftHandRot_x, LeftHandRot_y, LeftHandRot_z,\n",
    "    RightHandRot_w, RightHandRot_x, RightHandRot_y, RightHandRot_z\n",
    "    FROM PersonTime\n",
    "    WHERE PlayerName IN ({})\n",
    "    AND RecordingName IN ({})\n",
    "    \"\"\".format(\",\".join(students), \",\".join(recordings)), con)\n",
    "\n",
    "print(all_weeks.shape)"
   ]
  },
  {
   "cell_type": "code",
   "execution_count": 9,
   "id": "14f99c8c",
   "metadata": {},
   "outputs": [
    {
     "name": "stdout",
     "output_type": "stream",
     "text": [
      "109620\n",
      "90\n",
      "109620\n",
      "27322\n",
      "90\n",
      "27322\n"
     ]
    }
   ],
   "source": [
    "translations = ['HeadPos_x', 'HeadPos_y', 'HeadPos_z',\n",
    "                'LeftHandPos_x', 'LeftHandPos_y', 'LeftHandPos_z',\n",
    "                'RightHandPos_x', 'RightHandPos_y', 'RightHandPos_z']\n",
    "\n",
    "playernames = all_weeks['PlayerName'].unique()\n",
    "recordingnames = all_weeks['RecordingName'].unique()\n",
    "\n",
    "playerIdx = {\n",
    "    'Alonzo': 0,\n",
    "    'Dax': 1,\n",
    "    'Emily': 2,\n",
    "    'Isabelle': 3,\n",
    "    'Jake': 4,\n",
    "    'Philip': 5,\n",
    "    'Rishab': 6,\n",
    "    'Sam': 7,\n",
    "    'justin': 8,\n",
    "    'Alex': 9,\n",
    "    'Jordan': 10\n",
    "}\n",
    "\n",
    "X_train = []\n",
    "y_train = []\n",
    "X_test = []\n",
    "y_test = []\n",
    "\n",
    "for recording_name in recordingnames:\n",
    "    recording_df = all_weeks[all_weeks['RecordingName'] == recording_name]\n",
    "\n",
    "    for name in playernames:\n",
    "        player_df = recording_df[recording_df['PlayerName'] == name]\n",
    "        \n",
    "        training_frames = math.ceil(player_df.shape[0] * 0.8)\n",
    "\n",
    "        for i in range(0, player_df.shape[0] - 29, 30):\n",
    "            features = []\n",
    "            window = player_df.iloc[i:i+29]\n",
    "\n",
    "            for column_name in translations:\n",
    "                column = window[column_name]\n",
    "                features.extend([column.max(), column.min(), column.median(), column.mean(), column.std()])\n",
    "                \n",
    "            head_alpha, lhand_alpha, rhand_alpha = [], [], []\n",
    "            head_beta, lhand_beta, rhand_beta = [], [], []\n",
    "            head_gamma, lhand_gamma, rhand_gamma = [], [], []\n",
    "            for j in range(i, i+29):\n",
    "                head_q0, head_q1, head_q2, head_q3 = player_df.iloc[j]['HeadRot_w'], player_df.iloc[j]['HeadRot_x'], player_df.iloc[j]['HeadRot_y'], player_df.iloc[j]['HeadRot_z'], \n",
    "                lhand_q0, lhand_q1, lhand_q2, lhand_q3 = player_df.iloc[j]['LeftHandRot_w'], player_df.iloc[j]['LeftHandRot_x'], player_df.iloc[j]['LeftHandRot_y'], player_df.iloc[j]['LeftHandRot_z'], \n",
    "                rhand_q0, rhand_q1, rhand_q2, rhand_q3 = player_df.iloc[j]['RightHandRot_w'], player_df.iloc[j]['RightHandRot_x'], player_df.iloc[j]['RightHandRot_y'], player_df.iloc[j]['RightHandRot_z'], \n",
    "                \n",
    "                head_alpha.append(math.atan2(2*(head_q0*head_q1+head_q2*head_q3), 1-2*(head_q1**2+head_q2**2)))\n",
    "                head_beta.append(math.asin(2*(head_q0*head_q2-head_q3*head_q1)))\n",
    "                head_gamma.append(math.atan2(2*(head_q0*head_q3+head_q1*head_q2), 1-2*(head_q2**2+head_q3**2)))\n",
    "                \n",
    "                lhand_alpha.append(math.atan2(2*(lhand_q0*lhand_q1+lhand_q2*lhand_q3), 1-2*(lhand_q1**2+lhand_q2**2)))\n",
    "                lhand_beta.append(math.asin(2*(lhand_q0*lhand_q2-lhand_q3*lhand_q1)))\n",
    "                lhand_gamma.append(math.atan2(2*(lhand_q0*lhand_q3+lhand_q1*lhand_q2), 1-2*(lhand_q2**2+lhand_q3**2)))\n",
    "                \n",
    "                rhand_alpha.append(math.atan2(2*(rhand_q0*rhand_q1+rhand_q2*rhand_q3), 1-2*(rhand_q1**2+rhand_q2**2)))\n",
    "                rhand_beta.append(math.asin(2*(rhand_q0*rhand_q2-rhand_q3*rhand_q1)))\n",
    "                rhand_gamma.append(math.atan2(2*(rhand_q0*rhand_q3+rhand_q1*rhand_q2), 1-2*(rhand_q2**2+rhand_q3**2)))\n",
    "                \n",
    "            features.extend([max(head_alpha), min(head_alpha), np.median(head_alpha), np.mean(head_alpha), np.std(head_alpha)])\n",
    "            features.extend([max(head_beta), min(head_beta), np.median(head_beta), np.mean(head_beta), np.std(head_beta)])\n",
    "            features.extend([max(head_gamma), min(head_gamma), np.median(head_gamma), np.mean(head_gamma), np.std(head_gamma)])\n",
    "            \n",
    "            features.extend([max(lhand_alpha), min(lhand_alpha), np.median(lhand_alpha), np.mean(lhand_alpha), np.std(lhand_alpha)])\n",
    "            features.extend([max(lhand_beta), min(lhand_beta), np.median(lhand_beta), np.mean(lhand_beta), np.std(lhand_beta)])\n",
    "            features.extend([max(lhand_gamma), min(lhand_gamma), np.median(lhand_gamma), np.mean(lhand_gamma), np.std(lhand_gamma)])\n",
    "            \n",
    "            features.extend([max(rhand_alpha), min(rhand_alpha), np.median(rhand_alpha), np.mean(rhand_alpha), np.std(rhand_alpha)])\n",
    "            features.extend([max(rhand_beta), min(rhand_beta), np.median(rhand_beta), np.mean(rhand_beta), np.std(rhand_beta)])\n",
    "            features.extend([max(rhand_gamma), min(rhand_gamma), np.median(rhand_gamma), np.mean(rhand_gamma), np.std(rhand_gamma)])\n",
    "            \n",
    "            if i < training_frames:\n",
    "                X_train.append(features)\n",
    "                y_train.append(playerIdx[name])\n",
    "                \n",
    "            else:\n",
    "                X_test.append(features)\n",
    "                y_test.append(playerIdx[name])\n",
    "            \n",
    "\n",
    "print(len(X_train))\n",
    "print(len(X_train[0]))\n",
    "print(len(y_train))\n",
    "print(len(X_test))\n",
    "print(len(X_test[0]))\n",
    "print(len(y_test))"
   ]
  },
  {
   "cell_type": "code",
   "execution_count": 10,
   "id": "85981a36",
   "metadata": {},
   "outputs": [],
   "source": [
    "scaler = StandardScaler()\n",
    "X_train = scaler.fit_transform(X_train)\n",
    "X_test = scaler.transform(X_test)"
   ]
  },
  {
   "cell_type": "code",
   "execution_count": 11,
   "id": "66863b81",
   "metadata": {},
   "outputs": [
    {
     "data": {
      "text/plain": [
       "RandomForestClassifier(criterion='entropy', random_state=42)"
      ]
     },
     "execution_count": 11,
     "metadata": {},
     "output_type": "execute_result"
    }
   ],
   "source": [
    "classifier = RandomForestClassifier(n_estimators = 100, criterion = 'entropy', random_state = 42)\n",
    "classifier.fit(X_train, y_train)"
   ]
  },
  {
   "cell_type": "code",
   "execution_count": 12,
   "id": "9f3bbe9d",
   "metadata": {},
   "outputs": [
    {
     "name": "stdout",
     "output_type": "stream",
     "text": [
      "0.7577044140253276\n"
     ]
    }
   ],
   "source": [
    "y_pred = classifier.predict(X_test)\n",
    "print(accuracy_score(y_test, y_pred))"
   ]
  },
  {
   "cell_type": "markdown",
   "id": "0daa1309",
   "metadata": {},
   "source": [
    "baseline paper random forest - 0.753683056114056\n",
    "with euler angles - 0.7577044140253276"
   ]
  },
  {
   "cell_type": "code",
   "execution_count": 13,
   "id": "ce3f804f",
   "metadata": {},
   "outputs": [
    {
     "name": "stdout",
     "output_type": "stream",
     "text": [
      "36565\n",
      "90\n",
      "36565\n",
      "9055\n",
      "90\n",
      "9055\n"
     ]
    }
   ],
   "source": [
    "X_train_3s = []\n",
    "y_train_3s = []\n",
    "X_test_3s = []\n",
    "y_test_3s = []\n",
    "\n",
    "for recording_name in recordingnames:\n",
    "    recording_df = all_weeks[all_weeks['RecordingName'] == recording_name]\n",
    "\n",
    "    for name in playernames:\n",
    "        player_df = recording_df[recording_df['PlayerName'] == name]\n",
    "        \n",
    "        training_frames = math.ceil(player_df.shape[0] * 0.8)\n",
    "\n",
    "        for i in range(0, player_df.shape[0] - 89, 90):\n",
    "            features = []\n",
    "            window = player_df.iloc[i:i+89]\n",
    "\n",
    "            for column_name in translations:\n",
    "                column = window[column_name]\n",
    "                features.extend([column.max(), column.min(), column.median(), column.mean(), column.std()])\n",
    "                \n",
    "            head_alpha, lhand_alpha, rhand_alpha = [], [], []\n",
    "            head_beta, lhand_beta, rhand_beta = [], [], []\n",
    "            head_gamma, lhand_gamma, rhand_gamma = [], [], []\n",
    "            for j in range(i, i+89):\n",
    "                head_q0, head_q1, head_q2, head_q3 = player_df.iloc[j]['HeadRot_w'], player_df.iloc[j]['HeadRot_x'], player_df.iloc[j]['HeadRot_y'], player_df.iloc[j]['HeadRot_z'], \n",
    "                lhand_q0, lhand_q1, lhand_q2, lhand_q3 = player_df.iloc[j]['LeftHandRot_w'], player_df.iloc[j]['LeftHandRot_x'], player_df.iloc[j]['LeftHandRot_y'], player_df.iloc[j]['LeftHandRot_z'], \n",
    "                rhand_q0, rhand_q1, rhand_q2, rhand_q3 = player_df.iloc[j]['RightHandRot_w'], player_df.iloc[j]['RightHandRot_x'], player_df.iloc[j]['RightHandRot_y'], player_df.iloc[j]['RightHandRot_z'], \n",
    "                \n",
    "                head_alpha.append(math.atan2(2*(head_q0*head_q1+head_q2*head_q3), 1-2*(head_q1**2+head_q2**2)))\n",
    "                head_beta.append(math.asin(2*(head_q0*head_q2-head_q3*head_q1)))\n",
    "                head_gamma.append(math.atan2(2*(head_q0*head_q3+head_q1*head_q2), 1-2*(head_q2**2+head_q3**2)))\n",
    "                \n",
    "                lhand_alpha.append(math.atan2(2*(lhand_q0*lhand_q1+lhand_q2*lhand_q3), 1-2*(lhand_q1**2+lhand_q2**2)))\n",
    "                lhand_beta.append(math.asin(2*(lhand_q0*lhand_q2-lhand_q3*lhand_q1)))\n",
    "                lhand_gamma.append(math.atan2(2*(lhand_q0*lhand_q3+lhand_q1*lhand_q2), 1-2*(lhand_q2**2+lhand_q3**2)))\n",
    "                \n",
    "                rhand_alpha.append(math.atan2(2*(rhand_q0*rhand_q1+rhand_q2*rhand_q3), 1-2*(rhand_q1**2+rhand_q2**2)))\n",
    "                rhand_beta.append(math.asin(2*(rhand_q0*rhand_q2-rhand_q3*rhand_q1)))\n",
    "                rhand_gamma.append(math.atan2(2*(rhand_q0*rhand_q3+rhand_q1*rhand_q2), 1-2*(rhand_q2**2+rhand_q3**2)))\n",
    "                \n",
    "            features.extend([max(head_alpha), min(head_alpha), np.median(head_alpha), np.mean(head_alpha), np.std(head_alpha)])\n",
    "            features.extend([max(head_beta), min(head_beta), np.median(head_beta), np.mean(head_beta), np.std(head_beta)])\n",
    "            features.extend([max(head_gamma), min(head_gamma), np.median(head_gamma), np.mean(head_gamma), np.std(head_gamma)])\n",
    "            \n",
    "            features.extend([max(lhand_alpha), min(lhand_alpha), np.median(lhand_alpha), np.mean(lhand_alpha), np.std(lhand_alpha)])\n",
    "            features.extend([max(lhand_beta), min(lhand_beta), np.median(lhand_beta), np.mean(lhand_beta), np.std(lhand_beta)])\n",
    "            features.extend([max(lhand_gamma), min(lhand_gamma), np.median(lhand_gamma), np.mean(lhand_gamma), np.std(lhand_gamma)])\n",
    "            \n",
    "            features.extend([max(rhand_alpha), min(rhand_alpha), np.median(rhand_alpha), np.mean(rhand_alpha), np.std(rhand_alpha)])\n",
    "            features.extend([max(rhand_beta), min(rhand_beta), np.median(rhand_beta), np.mean(rhand_beta), np.std(rhand_beta)])\n",
    "            features.extend([max(rhand_gamma), min(rhand_gamma), np.median(rhand_gamma), np.mean(rhand_gamma), np.std(rhand_gamma)])\n",
    "            \n",
    "            if i < training_frames:\n",
    "                X_train_3s.append(features)\n",
    "                y_train_3s.append(playerIdx[name])\n",
    "                \n",
    "            else:\n",
    "                X_test_3s.append(features)\n",
    "                y_test_3s.append(playerIdx[name])\n",
    "            \n",
    "\n",
    "print(len(X_train_3s))\n",
    "print(len(X_train_3s[0]))\n",
    "print(len(y_train_3s))\n",
    "print(len(X_test_3s))\n",
    "print(len(X_test_3s[0]))\n",
    "print(len(y_test_3s))"
   ]
  },
  {
   "cell_type": "code",
   "execution_count": 14,
   "id": "4872bfef",
   "metadata": {},
   "outputs": [
    {
     "name": "stdout",
     "output_type": "stream",
     "text": [
      "0.7499723909442297\n"
     ]
    }
   ],
   "source": [
    "X_train_3s = scaler.fit_transform(X_train_3s)\n",
    "X_test_3s = scaler.transform(X_test_3s)\n",
    "classifier_3s = RandomForestClassifier(n_estimators = 100, criterion = 'entropy', random_state = 42)\n",
    "classifier_3s.fit(X_train_3s, y_train_3s)\n",
    "y_pred_3s = classifier_3s.predict(X_test_3s)\n",
    "print(accuracy_score(y_test_3s, y_pred_3s))"
   ]
  },
  {
   "cell_type": "code",
   "execution_count": 15,
   "id": "58bcbdc1",
   "metadata": {},
   "outputs": [
    {
     "name": "stdout",
     "output_type": "stream",
     "text": [
      "10999\n",
      "90\n",
      "10999\n",
      "2656\n",
      "90\n",
      "2656\n"
     ]
    }
   ],
   "source": [
    "X_train_10s = []\n",
    "y_train_10s = []\n",
    "X_test_10s = []\n",
    "y_test_10s = []\n",
    "\n",
    "for recording_name in recordingnames:\n",
    "    recording_df = all_weeks[all_weeks['RecordingName'] == recording_name]\n",
    "\n",
    "    for name in playernames:\n",
    "        player_df = recording_df[recording_df['PlayerName'] == name]\n",
    "        \n",
    "        training_frames = math.ceil(player_df.shape[0] * 0.8)\n",
    "\n",
    "        for i in range(0, player_df.shape[0] - 299, 300):\n",
    "            features = []\n",
    "            window = player_df.iloc[i:i+299]\n",
    "\n",
    "            for column_name in translations:\n",
    "                column = window[column_name]\n",
    "                features.extend([column.max(), column.min(), column.median(), column.mean(), column.std()])\n",
    "                \n",
    "            head_alpha, lhand_alpha, rhand_alpha = [], [], []\n",
    "            head_beta, lhand_beta, rhand_beta = [], [], []\n",
    "            head_gamma, lhand_gamma, rhand_gamma = [], [], []\n",
    "            for j in range(i, i+299):\n",
    "                head_q0, head_q1, head_q2, head_q3 = player_df.iloc[j]['HeadRot_w'], player_df.iloc[j]['HeadRot_x'], player_df.iloc[j]['HeadRot_y'], player_df.iloc[j]['HeadRot_z'], \n",
    "                lhand_q0, lhand_q1, lhand_q2, lhand_q3 = player_df.iloc[j]['LeftHandRot_w'], player_df.iloc[j]['LeftHandRot_x'], player_df.iloc[j]['LeftHandRot_y'], player_df.iloc[j]['LeftHandRot_z'], \n",
    "                rhand_q0, rhand_q1, rhand_q2, rhand_q3 = player_df.iloc[j]['RightHandRot_w'], player_df.iloc[j]['RightHandRot_x'], player_df.iloc[j]['RightHandRot_y'], player_df.iloc[j]['RightHandRot_z'], \n",
    "                \n",
    "                head_alpha.append(math.atan2(2*(head_q0*head_q1+head_q2*head_q3), 1-2*(head_q1**2+head_q2**2)))\n",
    "                head_beta.append(math.asin(2*(head_q0*head_q2-head_q3*head_q1)))\n",
    "                head_gamma.append(math.atan2(2*(head_q0*head_q3+head_q1*head_q2), 1-2*(head_q2**2+head_q3**2)))\n",
    "                \n",
    "                lhand_alpha.append(math.atan2(2*(lhand_q0*lhand_q1+lhand_q2*lhand_q3), 1-2*(lhand_q1**2+lhand_q2**2)))\n",
    "                lhand_beta.append(math.asin(2*(lhand_q0*lhand_q2-lhand_q3*lhand_q1)))\n",
    "                lhand_gamma.append(math.atan2(2*(lhand_q0*lhand_q3+lhand_q1*lhand_q2), 1-2*(lhand_q2**2+lhand_q3**2)))\n",
    "                \n",
    "                rhand_alpha.append(math.atan2(2*(rhand_q0*rhand_q1+rhand_q2*rhand_q3), 1-2*(rhand_q1**2+rhand_q2**2)))\n",
    "                rhand_beta.append(math.asin(2*(rhand_q0*rhand_q2-rhand_q3*rhand_q1)))\n",
    "                rhand_gamma.append(math.atan2(2*(rhand_q0*rhand_q3+rhand_q1*rhand_q2), 1-2*(rhand_q2**2+rhand_q3**2)))\n",
    "                \n",
    "            features.extend([max(head_alpha), min(head_alpha), np.median(head_alpha), np.mean(head_alpha), np.std(head_alpha)])\n",
    "            features.extend([max(head_beta), min(head_beta), np.median(head_beta), np.mean(head_beta), np.std(head_beta)])\n",
    "            features.extend([max(head_gamma), min(head_gamma), np.median(head_gamma), np.mean(head_gamma), np.std(head_gamma)])\n",
    "            \n",
    "            features.extend([max(lhand_alpha), min(lhand_alpha), np.median(lhand_alpha), np.mean(lhand_alpha), np.std(lhand_alpha)])\n",
    "            features.extend([max(lhand_beta), min(lhand_beta), np.median(lhand_beta), np.mean(lhand_beta), np.std(lhand_beta)])\n",
    "            features.extend([max(lhand_gamma), min(lhand_gamma), np.median(lhand_gamma), np.mean(lhand_gamma), np.std(lhand_gamma)])\n",
    "            \n",
    "            features.extend([max(rhand_alpha), min(rhand_alpha), np.median(rhand_alpha), np.mean(rhand_alpha), np.std(rhand_alpha)])\n",
    "            features.extend([max(rhand_beta), min(rhand_beta), np.median(rhand_beta), np.mean(rhand_beta), np.std(rhand_beta)])\n",
    "            features.extend([max(rhand_gamma), min(rhand_gamma), np.median(rhand_gamma), np.mean(rhand_gamma), np.std(rhand_gamma)])\n",
    "            \n",
    "            if i < training_frames:\n",
    "                X_train_10s.append(features)\n",
    "                y_train_10s.append(playerIdx[name])\n",
    "                \n",
    "            else:\n",
    "                X_test_10s.append(features)\n",
    "                y_test_10s.append(playerIdx[name])\n",
    "            \n",
    "\n",
    "print(len(X_train_10s))\n",
    "print(len(X_train_10s[0]))\n",
    "print(len(y_train_10s))\n",
    "print(len(X_test_10s))\n",
    "print(len(X_test_10s[0]))\n",
    "print(len(y_test_10s))"
   ]
  },
  {
   "cell_type": "code",
   "execution_count": 16,
   "id": "591ab361",
   "metadata": {},
   "outputs": [
    {
     "name": "stdout",
     "output_type": "stream",
     "text": [
      "0.7695783132530121\n"
     ]
    }
   ],
   "source": [
    "X_train_10s = scaler.fit_transform(X_train_10s)\n",
    "X_test_10s = scaler.transform(X_test_10s)\n",
    "classifier_10s = RandomForestClassifier(n_estimators = 100, criterion = 'entropy', random_state = 42)\n",
    "classifier_10s.fit(X_train_10s, y_train_10s)\n",
    "y_pred_10s = classifier_10s.predict(X_test_10s)\n",
    "print(accuracy_score(y_test_10s, y_pred_10s))"
   ]
  },
  {
   "cell_type": "code",
   "execution_count": 17,
   "id": "7168a119",
   "metadata": {},
   "outputs": [
    {
     "name": "stdout",
     "output_type": "stream",
     "text": [
      "3694\n",
      "90\n",
      "3694\n",
      "831\n",
      "90\n",
      "831\n"
     ]
    }
   ],
   "source": [
    "X_train_30s = []\n",
    "y_train_30s = []\n",
    "X_test_30s = []\n",
    "y_test_30s = []\n",
    "\n",
    "for recording_name in recordingnames:\n",
    "    recording_df = all_weeks[all_weeks['RecordingName'] == recording_name]\n",
    "\n",
    "    for name in playernames:\n",
    "        player_df = recording_df[recording_df['PlayerName'] == name]\n",
    "        \n",
    "        training_frames = math.ceil(player_df.shape[0] * 0.8)\n",
    "\n",
    "        for i in range(0, player_df.shape[0] - 899, 30): # check the starting frames\n",
    "            features = []\n",
    "            window = player_df.iloc[i:i+899]\n",
    "\n",
    "            for column_name in translations:\n",
    "                column = window[column_name]\n",
    "                features.extend([column.max(), column.min(), column.median(), column.mean(), column.std()])\n",
    "                \n",
    "            head_alpha, lhand_alpha, rhand_alpha = [], [], []\n",
    "            head_beta, lhand_beta, rhand_beta = [], [], []\n",
    "            head_gamma, lhand_gamma, rhand_gamma = [], [], []\n",
    "            for j in range(i, i+899):\n",
    "                head_q0, head_q1, head_q2, head_q3 = player_df.iloc[j]['HeadRot_w'], player_df.iloc[j]['HeadRot_x'], player_df.iloc[j]['HeadRot_y'], player_df.iloc[j]['HeadRot_z'], \n",
    "                lhand_q0, lhand_q1, lhand_q2, lhand_q3 = player_df.iloc[j]['LeftHandRot_w'], player_df.iloc[j]['LeftHandRot_x'], player_df.iloc[j]['LeftHandRot_y'], player_df.iloc[j]['LeftHandRot_z'], \n",
    "                rhand_q0, rhand_q1, rhand_q2, rhand_q3 = player_df.iloc[j]['RightHandRot_w'], player_df.iloc[j]['RightHandRot_x'], player_df.iloc[j]['RightHandRot_y'], player_df.iloc[j]['RightHandRot_z'], \n",
    "                \n",
    "                head_alpha.append(math.atan2(2*(head_q0*head_q1+head_q2*head_q3), 1-2*(head_q1**2+head_q2**2)))\n",
    "                head_beta.append(math.asin(2*(head_q0*head_q2-head_q3*head_q1)))\n",
    "                head_gamma.append(math.atan2(2*(head_q0*head_q3+head_q1*head_q2), 1-2*(head_q2**2+head_q3**2)))\n",
    "                \n",
    "                lhand_alpha.append(math.atan2(2*(lhand_q0*lhand_q1+lhand_q2*lhand_q3), 1-2*(lhand_q1**2+lhand_q2**2)))\n",
    "                lhand_beta.append(math.asin(2*(lhand_q0*lhand_q2-lhand_q3*lhand_q1)))\n",
    "                lhand_gamma.append(math.atan2(2*(lhand_q0*lhand_q3+lhand_q1*lhand_q2), 1-2*(lhand_q2**2+lhand_q3**2)))\n",
    "                \n",
    "                rhand_alpha.append(math.atan2(2*(rhand_q0*rhand_q1+rhand_q2*rhand_q3), 1-2*(rhand_q1**2+rhand_q2**2)))\n",
    "                rhand_beta.append(math.asin(2*(rhand_q0*rhand_q2-rhand_q3*rhand_q1)))\n",
    "                rhand_gamma.append(math.atan2(2*(rhand_q0*rhand_q3+rhand_q1*rhand_q2), 1-2*(rhand_q2**2+rhand_q3**2)))\n",
    "                \n",
    "            features.extend([max(head_alpha), min(head_alpha), np.median(head_alpha), np.mean(head_alpha), np.std(head_alpha)])\n",
    "            features.extend([max(head_beta), min(head_beta), np.median(head_beta), np.mean(head_beta), np.std(head_beta)])\n",
    "            features.extend([max(head_gamma), min(head_gamma), np.median(head_gamma), np.mean(head_gamma), np.std(head_gamma)])\n",
    "            \n",
    "            features.extend([max(lhand_alpha), min(lhand_alpha), np.median(lhand_alpha), np.mean(lhand_alpha), np.std(lhand_alpha)])\n",
    "            features.extend([max(lhand_beta), min(lhand_beta), np.median(lhand_beta), np.mean(lhand_beta), np.std(lhand_beta)])\n",
    "            features.extend([max(lhand_gamma), min(lhand_gamma), np.median(lhand_gamma), np.mean(lhand_gamma), np.std(lhand_gamma)])\n",
    "            \n",
    "            features.extend([max(rhand_alpha), min(rhand_alpha), np.median(rhand_alpha), np.mean(rhand_alpha), np.std(rhand_alpha)])\n",
    "            features.extend([max(rhand_beta), min(rhand_beta), np.median(rhand_beta), np.mean(rhand_beta), np.std(rhand_beta)])\n",
    "            features.extend([max(rhand_gamma), min(rhand_gamma), np.median(rhand_gamma), np.mean(rhand_gamma), np.std(rhand_gamma)])\n",
    "            \n",
    "            if i < training_frames:\n",
    "                X_train_30s.append(features)\n",
    "                y_train_30s.append(playerIdx[name])\n",
    "                \n",
    "            else:\n",
    "                X_test_30s.append(features)\n",
    "                y_test_30s.append(playerIdx[name])\n",
    "            \n",
    "\n",
    "print(len(X_train_30s))\n",
    "print(len(X_train_30s[0]))\n",
    "print(len(y_train_30s))\n",
    "print(len(X_test_30s))\n",
    "print(len(X_test_30s[0]))\n",
    "print(len(y_test_30s))"
   ]
  },
  {
   "cell_type": "code",
   "execution_count": 18,
   "id": "2af578d7",
   "metadata": {},
   "outputs": [
    {
     "name": "stdout",
     "output_type": "stream",
     "text": [
      "0.7785800240673887\n"
     ]
    }
   ],
   "source": [
    "X_train_30s = scaler.fit_transform(X_train_30s)\n",
    "X_test_30s = scaler.transform(X_test_30s)\n",
    "classifier_30s = RandomForestClassifier(n_estimators = 100, criterion = 'entropy', random_state = 42)\n",
    "classifier_30s.fit(X_train_30s, y_train_30s)\n",
    "y_pred_30s = classifier_30s.predict(X_test_30s)\n",
    "print(accuracy_score(y_test_30s, y_pred_30s))"
   ]
  },
  {
   "cell_type": "markdown",
   "id": "8bbf7be6",
   "metadata": {},
   "source": [
    "center the windows on a point\n",
    "points are every 30 frames instead of for example 900 frames"
   ]
  },
  {
   "cell_type": "markdown",
   "id": "caa4105f",
   "metadata": {},
   "source": [
    "9 histograms, one for each of the calculated euler angles"
   ]
  },
  {
   "cell_type": "markdown",
   "id": "d1780bbb",
   "metadata": {},
   "source": [
    "eq10 on website - rotations in 2D\n",
    "use this eq to calculate surging and strafing rotations - z and x\n",
    "\n",
    "calculate the avg position of x and z\n",
    "subtract all x and z values from this avg position, then rotate using the eq\n",
    "\n",
    "max, min, etc for surging and strafing - mean will be 0"
   ]
  },
  {
   "cell_type": "markdown",
   "id": "56c2b32d",
   "metadata": {},
   "source": [
    "1/3 of a second for velocity (10 frames regardless of window)"
   ]
  },
  {
   "cell_type": "markdown",
   "id": "d60f8435",
   "metadata": {},
   "source": [
    "no7 expand beyond just median to diff quartiles"
   ]
  },
  {
   "cell_type": "code",
   "execution_count": null,
   "id": "d651f470",
   "metadata": {},
   "outputs": [],
   "source": []
  }
 ],
 "metadata": {
  "kernelspec": {
   "display_name": "Python 3 (ipykernel)",
   "language": "python",
   "name": "python3"
  },
  "language_info": {
   "codemirror_mode": {
    "name": "ipython",
    "version": 3
   },
   "file_extension": ".py",
   "mimetype": "text/x-python",
   "name": "python",
   "nbconvert_exporter": "python",
   "pygments_lexer": "ipython3",
   "version": "3.8.5"
  }
 },
 "nbformat": 4,
 "nbformat_minor": 5
}
