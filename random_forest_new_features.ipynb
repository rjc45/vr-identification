{
 "cells": [
  {
   "cell_type": "code",
   "execution_count": 1,
   "id": "c2c24ddc",
   "metadata": {},
   "outputs": [],
   "source": [
    "import time\n",
    "import math\n",
    "import numpy as np\n",
    "import pandas as pd\n",
    "from sklearn.model_selection import train_test_split\n",
    "from sklearn.preprocessing import StandardScaler\n",
    "from sklearn.ensemble import RandomForestClassifier\n",
    "from sklearn.metrics import accuracy_score\n",
    "from scipy.stats import circmean\n",
    "\n",
    "import sqlite3\n",
    "con = sqlite3.connect('../summer')\n",
    "cur = con.cursor()"
   ]
  },
  {
   "cell_type": "code",
   "execution_count": 2,
   "id": "a7952645",
   "metadata": {},
   "outputs": [
    {
     "name": "stdout",
     "output_type": "stream",
     "text": [
      "(3189974, 23)\n",
      "(919446, 23)\n"
     ]
    }
   ],
   "source": [
    "students = ['\\'Alonzo\\'','\\'Dax\\'','\\'Emily\\'','\\'Isabelle\\'','\\'Jake\\'','\\'Philip\\'','\\'Rishab\\'','\\'Sam\\'',\n",
    "            '\\'justin\\'','\\'Alex\\'','\\'Jordan\\'']\n",
    "recordings_train = ['\\'week1_3\\'', '\\'week2_3\\'', '\\'week3_3\\'', '\\'week4_3\\'', '\\'week5_3\\'', '\\'week6_3\\'']\n",
    "recordings_test = ['\\'week7_3\\'', '\\'week8_3\\'']\n",
    "\n",
    "all_weeks_train = pd.read_sql_query(\"\"\"SELECT PlayerName, RecordingName,\n",
    "    HeadPos_x, HeadPos_y, HeadPos_z, \n",
    "    LeftHandPos_x, LeftHandPos_y, LeftHandPos_z,\n",
    "    RightHandPos_x, RightHandPos_y, RightHandPos_z,\n",
    "    HeadRot_w, HeadRot_x, HeadRot_y, HeadRot_z,\n",
    "    LeftHandRot_w, LeftHandRot_x, LeftHandRot_y, LeftHandRot_z,\n",
    "    RightHandRot_w, RightHandRot_x, RightHandRot_y, RightHandRot_z\n",
    "    FROM PersonTime\n",
    "    WHERE PlayerName IN ({})\n",
    "    AND RecordingName IN ({})\n",
    "    \"\"\".format(\",\".join(students), \",\".join(recordings_train)), con)\n",
    "\n",
    "all_weeks_test = pd.read_sql_query(\"\"\"SELECT PlayerName, RecordingName,\n",
    "    HeadPos_x, HeadPos_y, HeadPos_z, \n",
    "    LeftHandPos_x, LeftHandPos_y, LeftHandPos_z,\n",
    "    RightHandPos_x, RightHandPos_y, RightHandPos_z,\n",
    "    HeadRot_w, HeadRot_x, HeadRot_y, HeadRot_z,\n",
    "    LeftHandRot_w, LeftHandRot_x, LeftHandRot_y, LeftHandRot_z,\n",
    "    RightHandRot_w, RightHandRot_x, RightHandRot_y, RightHandRot_z\n",
    "    FROM PersonTime\n",
    "    WHERE PlayerName IN ({})\n",
    "    AND RecordingName IN ({})\n",
    "    \"\"\".format(\",\".join(students), \",\".join(recordings_test)), con)\n",
    "\n",
    "print(all_weeks_train.shape)\n",
    "print(all_weeks_test.shape)"
   ]
  },
  {
   "cell_type": "code",
   "execution_count": 3,
   "id": "14f99c8c",
   "metadata": {},
   "outputs": [
    {
     "name": "stdout",
     "output_type": "stream",
     "text": [
      "start time:  16:02:33\n",
      "week1_3 start_time 16:02:35\n",
      "Alonzo start time 16:02:35\n",
      "Dax start time 16:04:24\n",
      "Emily start time 16:06:11\n",
      "Isabelle start time 16:07:29\n",
      "Jake start time 16:08:46\n",
      "Philip start time 16:10:19\n",
      "Rishab start time 16:12:01\n",
      "Sam start time 16:13:18\n",
      "justin start time 16:14:37\n",
      "Alex start time 16:16:15\n",
      "Jordan start time 16:17:32\n",
      "week2_3 start_time 16:18:52\n",
      "Alonzo start time 16:18:52\n",
      "Dax start time 16:20:05\n",
      "Emily start time 16:21:19\n",
      "Isabelle start time 16:22:25\n",
      "Jake start time 16:23:36\n",
      "Philip start time 16:24:55\n",
      "Rishab start time 16:25:57\n",
      "Sam start time 16:26:55\n",
      "justin start time 16:28:00\n",
      "Alex start time 16:29:18\n",
      "Jordan start time 16:30:22\n",
      "week3_3 start_time 16:31:16\n",
      "Alonzo start time 16:31:16\n",
      "Dax start time 16:33:07\n",
      "Emily start time 16:35:06\n",
      "Isabelle start time 16:36:43\n",
      "Jake start time 16:36:43\n",
      "Philip start time 16:38:31\n",
      "Rishab start time 16:40:22\n",
      "Sam start time 16:41:45\n",
      "justin start time 16:43:27\n",
      "Alex start time 16:45:14\n",
      "Jordan start time 16:46:45\n",
      "week4_3 start_time 16:48:07\n",
      "Alonzo start time 16:48:07\n",
      "Dax start time 16:48:12\n",
      "Emily start time 16:48:26\n",
      "Isabelle start time 16:48:55\n",
      "Jake start time 16:49:28\n",
      "Philip start time 16:50:10\n",
      "Rishab start time 16:50:47\n",
      "Sam start time 16:51:01\n",
      "justin start time 16:51:33\n",
      "Alex start time 16:52:14\n",
      "Jordan start time 16:52:39\n",
      "week5_3 start_time 16:52:39\n",
      "Alonzo start time 16:52:39\n",
      "Dax start time 16:54:08\n",
      "Emily start time 16:55:46\n",
      "Isabelle start time 16:57:39\n",
      "Jake start time 16:58:41\n",
      "Philip start time 17:00:09\n",
      "Rishab start time 17:01:44\n",
      "Sam start time 17:03:02\n",
      "justin start time 17:03:02\n",
      "Alex start time 17:04:37\n",
      "Jordan start time 17:06:01\n",
      "week6_3 start_time 17:06:02\n",
      "Alonzo start time 17:06:02\n",
      "Dax start time 17:07:27\n",
      "Emily start time 17:08:58\n",
      "Isabelle start time 17:10:27\n",
      "Jake start time 17:11:49\n",
      "Philip start time 17:13:33\n",
      "Rishab start time 17:15:13\n",
      "Sam start time 17:16:16\n",
      "justin start time 17:16:16\n",
      "Alex start time 17:17:54\n",
      "Jordan start time 17:18:02\n",
      "end time:  17:19:32\n",
      "422776\n",
      "84\n",
      "422776\n"
     ]
    }
   ],
   "source": [
    "translations = ['HeadPos_y', 'LeftHandPos_y', 'RightHandPos_y']\n",
    "\n",
    "playernames_train = all_weeks_train['PlayerName'].unique()\n",
    "recordingnames_train = all_weeks_train['RecordingName'].unique()\n",
    "\n",
    "playerIdx = {\n",
    "    'Alonzo': 0,\n",
    "    'Dax': 1,\n",
    "    'Emily': 2,\n",
    "    'Isabelle': 3,\n",
    "    'Jake': 4,\n",
    "    'Philip': 5,\n",
    "    'Rishab': 6,\n",
    "    'Sam': 7,\n",
    "    'justin': 8,\n",
    "    'Alex': 9,\n",
    "    'Jordan': 10\n",
    "}\n",
    "\n",
    "X_train = []\n",
    "y_train = []\n",
    "\n",
    "head_q0, head_q1, head_q2, head_q3 = all_weeks_train['HeadRot_w'], all_weeks_train['HeadRot_x'], all_weeks_train['HeadRot_y'], all_weeks_train['HeadRot_z'], \n",
    "lhand_q0, lhand_q1, lhand_q2, lhand_q3 = all_weeks_train['LeftHandRot_w'], all_weeks_train['LeftHandRot_x'], all_weeks_train['LeftHandRot_y'], all_weeks_train['LeftHandRot_z'], \n",
    "rhand_q0, rhand_q1, rhand_q2, rhand_q3 = all_weeks_train['RightHandRot_w'], all_weeks_train['RightHandRot_x'], all_weeks_train['RightHandRot_y'], all_weeks_train['RightHandRot_z'], \n",
    "\n",
    "all_weeks_train['head_alpha'] = np.arctan2(2*(head_q0*head_q1+head_q2*head_q3), 1-2*(head_q1**2+head_q2**2))\n",
    "all_weeks_train['head_beta'] = np.arcsin(2*(head_q0*head_q2-head_q3*head_q1))\n",
    "all_weeks_train['head_gamma'] = np.arctan2(2*(head_q0*head_q3+head_q1*head_q2), 1-2*(head_q2**2+head_q3**2))\n",
    "\n",
    "all_weeks_train['lhand_alpha'] = np.arctan2(2*(lhand_q0*lhand_q1+lhand_q2*lhand_q3), 1-2*(lhand_q1**2+lhand_q2**2))\n",
    "all_weeks_train['lhand_beta'] = np.arcsin(2*(lhand_q0*lhand_q2-lhand_q3*lhand_q1))\n",
    "all_weeks_train['lhand_gamma'] = np.arctan2(2*(lhand_q0*lhand_q3+lhand_q1*lhand_q2), 1-2*(lhand_q2**2+lhand_q3**2))\n",
    "\n",
    "all_weeks_train['rhand_alpha'] = np.arctan2(2*(rhand_q0*rhand_q1+rhand_q2*rhand_q3), 1-2*(rhand_q1**2+rhand_q2**2))\n",
    "all_weeks_train['rhand_beta'] = np.arcsin(2*(rhand_q0*rhand_q2-rhand_q3*rhand_q1))\n",
    "all_weeks_train['rhand_gamma'] = np.arctan2(2*(rhand_q0*rhand_q3+rhand_q1*rhand_q2), 1-2*(rhand_q2**2+rhand_q3**2))\n",
    "\n",
    "euler_angles = ['head_alpha', 'head_beta', 'head_gamma', \n",
    "                'lhand_alpha', 'lhand_beta', 'lhand_gamma', \n",
    "                'rhand_alpha', 'rhand_beta', 'rhand_gamma']\n",
    "\n",
    "print('start time: ', time.strftime(\"%H:%M:%S\", time.localtime()))\n",
    "\n",
    "for recording_name in recordingnames_train:\n",
    "    recording_df = all_weeks_train[all_weeks_train['RecordingName'] == recording_name]\n",
    "    \n",
    "    print(recording_name, 'start_time', time.strftime(\"%H:%M:%S\", time.localtime()))\n",
    "    for name in playernames_train:\n",
    "        player_df = recording_df[recording_df['PlayerName'] == name]\n",
    "        \n",
    "        print(name, 'start time', time.strftime(\"%H:%M:%S\", time.localtime()))\n",
    "                    \n",
    "        for i in range(0, player_df.shape[0], 30): # center by starting at 15\n",
    "            features_1s, features_3s, features_10s, features_30s = [], [], [], [] # features should be length 4x84\n",
    "\n",
    "            window_1s = None\n",
    "            window_3s = None\n",
    "            window_10s = None\n",
    "            window_30s = None\n",
    "\n",
    "            if i < player_df.shape[0] - 29:\n",
    "                window_1s = player_df.iloc[i : i + 29] # update indices to be centered\n",
    "            if i < player_df.shape[0] - 89:\n",
    "                window_3s = player_df.iloc[i : i + 89]\n",
    "            if i < player_df.shape[0] - 299:\n",
    "                window_10s = player_df.iloc[i : i + 299]\n",
    "            if i < player_df.shape[0] - 899:\n",
    "                window_30s = player_df.iloc[i : i + 899]\n",
    "\n",
    "            for column_name in translations:\n",
    "                if window_1s is not None:\n",
    "                    column = window_1s[column_name]\n",
    "                    features_1s.extend([column.max(), column.min(), column.median(), column.mean(), column.std()])\n",
    "                if window_3s is not None:\n",
    "                    column = window_3s[column_name]\n",
    "                    features_3s.extend([column.max(), column.min(), column.median(), column.mean(), column.std()])\n",
    "                if window_10s is not None:\n",
    "                    column = window_10s[column_name]\n",
    "                    features_10s.extend([column.max(), column.min(), column.median(), column.mean(), column.std()])\n",
    "                if window_30s is not None:\n",
    "                    column = window_30s[column_name]\n",
    "                    features_30s.extend([column.max(), column.min(), column.median(), column.mean(), column.std()])\n",
    "\n",
    "            for column_name in euler_angles:\n",
    "                if window_1s is not None:\n",
    "                    column = window_1s[column_name]\n",
    "                    features_1s.extend([column.max(), column.min(), column.median(), column.mean(), column.std()])\n",
    "                if window_3s is not None:\n",
    "                    column = window_3s[column_name]\n",
    "                    features_3s.extend([column.max(), column.min(), column.median(), column.mean(), column.std()])\n",
    "                if window_10s is not None:\n",
    "                    column = window_10s[column_name]\n",
    "                    features_10s.extend([column.max(), column.min(), column.median(), column.mean(), column.std()])\n",
    "                if window_30s is not None:\n",
    "                    column = window_30s[column_name]\n",
    "                    features_30s.extend([column.max(), column.min(), column.median(), column.mean(), column.std()])\n",
    "            \n",
    "            if window_1s is not None:\n",
    "                head_x_offset = window_1s['HeadPos_x'] - window_1s['HeadPos_x'].mean()\n",
    "                head_z_offset = window_1s['HeadPos_z'] - window_1s['HeadPos_z'].mean()\n",
    "                head_angle = -circmean(window_1s['head_gamma'])\n",
    "                head_surging = head_z_offset * np.cos(head_angle) - head_x_offset * np.sin(head_angle)\n",
    "                head_strafing = head_z_offset * np.sin(head_angle) + head_x_offset * np.cos(head_angle)\n",
    "                \n",
    "                features_1s.extend([head_surging.max(), head_surging.min(), head_surging.median(), head_surging.std()])\n",
    "                features_1s.extend([head_strafing.max(), head_strafing.min(), head_strafing.median(), head_strafing.std()])\n",
    "                \n",
    "                lhand_x_offset = window_1s['LeftHandPos_x'] - window_1s['LeftHandPos_x'].mean()\n",
    "                lhand_z_offset = window_1s['LeftHandPos_z'] - window_1s['LeftHandPos_z'].mean()\n",
    "                lhand_angle = -circmean(window_1s['lhand_gamma'])\n",
    "                lhand_surging = lhand_z_offset * np.cos(lhand_angle) - lhand_x_offset * np.sin(lhand_angle)\n",
    "                lhand_strafing = lhand_z_offset * np.sin(lhand_angle) + lhand_x_offset * np.cos(lhand_angle)\n",
    "                \n",
    "                features_1s.extend([lhand_surging.max(), lhand_surging.min(), lhand_surging.median(), lhand_surging.std()])\n",
    "                features_1s.extend([lhand_strafing.max(), lhand_strafing.min(), lhand_strafing.median(), lhand_strafing.std()])\n",
    "                \n",
    "                rhand_x_offset = window_1s['RightHandPos_x'] - window_1s['RightHandPos_x'].mean()\n",
    "                rhand_z_offset = window_1s['RightHandPos_z'] - window_1s['RightHandPos_z'].mean()\n",
    "                rhand_angle = -circmean(window_1s['rhand_gamma'])\n",
    "                rhand_surging = rhand_z_offset * np.cos(rhand_angle) - rhand_x_offset * np.sin(rhand_angle)\n",
    "                rhand_strafing = rhand_z_offset * np.sin(rhand_angle) + rhand_x_offset * np.cos(rhand_angle)\n",
    "                \n",
    "                features_1s.extend([rhand_surging.max(), rhand_surging.min(), rhand_surging.median(), rhand_surging.std()])\n",
    "                features_1s.extend([rhand_strafing.max(), rhand_strafing.min(), rhand_strafing.median(), rhand_strafing.std()])\n",
    "                \n",
    "                X_train.append(features_1s)\n",
    "                y_train.append(playerIdx[name])\n",
    "                \n",
    "            if window_3s is not None:\n",
    "                head_x_offset = window_3s['HeadPos_x'] - window_3s['HeadPos_x'].mean()\n",
    "                head_z_offset = window_3s['HeadPos_z'] - window_3s['HeadPos_z'].mean()\n",
    "                head_angle = -circmean(window_3s['head_gamma'])\n",
    "                head_surging = head_z_offset * np.cos(head_angle) - head_x_offset * np.sin(head_angle)\n",
    "                head_strafing = head_z_offset * np.sin(head_angle) + head_x_offset * np.cos(head_angle)\n",
    "                \n",
    "                features_3s.extend([head_surging.max(), head_surging.min(), head_surging.median(), head_surging.std()])\n",
    "                features_3s.extend([head_strafing.max(), head_strafing.min(), head_strafing.median(), head_strafing.std()])\n",
    "                \n",
    "                lhand_x_offset = window_3s['LeftHandPos_x'] - window_3s['LeftHandPos_x'].mean()\n",
    "                lhand_z_offset = window_3s['LeftHandPos_z'] - window_3s['LeftHandPos_z'].mean()\n",
    "                lhand_angle = -circmean(window_3s['lhand_gamma'])\n",
    "                lhand_surging = lhand_z_offset * np.cos(lhand_angle) - lhand_x_offset * np.sin(lhand_angle)\n",
    "                lhand_strafing = lhand_z_offset * np.sin(lhand_angle) + lhand_x_offset * np.cos(lhand_angle)\n",
    "                \n",
    "                features_3s.extend([lhand_surging.max(), lhand_surging.min(), lhand_surging.median(), lhand_surging.std()])\n",
    "                features_3s.extend([lhand_strafing.max(), lhand_strafing.min(), lhand_strafing.median(), lhand_strafing.std()])\n",
    "                \n",
    "                rhand_x_offset = window_3s['RightHandPos_x'] - window_3s['RightHandPos_x'].mean()\n",
    "                rhand_z_offset = window_3s['RightHandPos_z'] - window_3s['RightHandPos_z'].mean()\n",
    "                rhand_angle = -circmean(window_3s['rhand_gamma'])\n",
    "                rhand_surging = rhand_z_offset * np.cos(rhand_angle) - rhand_x_offset * np.sin(rhand_angle)\n",
    "                rhand_strafing = rhand_z_offset * np.sin(rhand_angle) + rhand_x_offset * np.cos(rhand_angle)\n",
    "                \n",
    "                features_3s.extend([rhand_surging.max(), rhand_surging.min(), rhand_surging.median(), rhand_surging.std()])\n",
    "                features_3s.extend([rhand_strafing.max(), rhand_strafing.min(), rhand_strafing.median(), rhand_strafing.std()])\n",
    "                \n",
    "                X_train.append(features_3s)\n",
    "                y_train.append(playerIdx[name])\n",
    "            if window_10s is not None:\n",
    "                head_x_offset = window_10s['HeadPos_x'] - window_10s['HeadPos_x'].mean()\n",
    "                head_z_offset = window_10s['HeadPos_z'] - window_10s['HeadPos_z'].mean()\n",
    "                head_angle = -circmean(window_10s['head_gamma'])\n",
    "                head_surging = head_z_offset * np.cos(head_angle) - head_x_offset * np.sin(head_angle)\n",
    "                head_strafing = head_z_offset * np.sin(head_angle) + head_x_offset * np.cos(head_angle)\n",
    "                \n",
    "                features_10s.extend([head_surging.max(), head_surging.min(), head_surging.median(), head_surging.std()])\n",
    "                features_10s.extend([head_strafing.max(), head_strafing.min(), head_strafing.median(), head_strafing.std()])\n",
    "                \n",
    "                lhand_x_offset = window_10s['LeftHandPos_x'] - window_10s['LeftHandPos_x'].mean()\n",
    "                lhand_z_offset = window_10s['LeftHandPos_z'] - window_10s['LeftHandPos_z'].mean()\n",
    "                lhand_angle = -circmean(window_10s['lhand_gamma'])\n",
    "                lhand_surging = lhand_z_offset * np.cos(lhand_angle) - lhand_x_offset * np.sin(lhand_angle)\n",
    "                lhand_strafing = lhand_z_offset * np.sin(lhand_angle) + lhand_x_offset * np.cos(lhand_angle)\n",
    "                \n",
    "                features_10s.extend([lhand_surging.max(), lhand_surging.min(), lhand_surging.median(), lhand_surging.std()])\n",
    "                features_10s.extend([lhand_strafing.max(), lhand_strafing.min(), lhand_strafing.median(), lhand_strafing.std()])\n",
    "                \n",
    "                rhand_x_offset = window_10s['RightHandPos_x'] - window_10s['RightHandPos_x'].mean()\n",
    "                rhand_z_offset = window_10s['RightHandPos_z'] - window_10s['RightHandPos_z'].mean()\n",
    "                rhand_angle = -circmean(window_10s['rhand_gamma'])\n",
    "                rhand_surging = rhand_z_offset * np.cos(rhand_angle) - rhand_x_offset * np.sin(rhand_angle)\n",
    "                rhand_strafing = rhand_z_offset * np.sin(rhand_angle) + rhand_x_offset * np.cos(rhand_angle)\n",
    "                \n",
    "                features_10s.extend([rhand_surging.max(), rhand_surging.min(), rhand_surging.median(), rhand_surging.std()])\n",
    "                features_10s.extend([rhand_strafing.max(), rhand_strafing.min(), rhand_strafing.median(), rhand_strafing.std()])\n",
    "                \n",
    "                X_train.append(features_10s)\n",
    "                y_train.append(playerIdx[name])\n",
    "                \n",
    "            if window_30s is not None:\n",
    "                head_x_offset = window_30s['HeadPos_x'] - window_30s['HeadPos_x'].mean()\n",
    "                head_z_offset = window_30s['HeadPos_z'] - window_30s['HeadPos_z'].mean()\n",
    "                head_angle = -circmean(window_30s['head_gamma'])\n",
    "                head_surging = head_z_offset * np.cos(head_angle) - head_x_offset * np.sin(head_angle)\n",
    "                head_strafing = head_z_offset * np.sin(head_angle) + head_x_offset * np.cos(head_angle)\n",
    "                \n",
    "                features_30s.extend([head_surging.max(), head_surging.min(), head_surging.median(), head_surging.std()])\n",
    "                features_30s.extend([head_strafing.max(), head_strafing.min(), head_strafing.median(), head_strafing.std()])\n",
    "                \n",
    "                lhand_x_offset = window_30s['LeftHandPos_x'] - window_30s['LeftHandPos_x'].mean()\n",
    "                lhand_z_offset = window_30s['LeftHandPos_z'] - window_30s['LeftHandPos_z'].mean()\n",
    "                lhand_angle = -circmean(window_30s['lhand_gamma'])\n",
    "                lhand_surging = lhand_z_offset * np.cos(lhand_angle) - lhand_x_offset * np.sin(lhand_angle)\n",
    "                lhand_strafing = lhand_z_offset * np.sin(lhand_angle) + lhand_x_offset * np.cos(lhand_angle)\n",
    "                \n",
    "                features_30s.extend([lhand_surging.max(), lhand_surging.min(), lhand_surging.median(), lhand_surging.std()])\n",
    "                features_30s.extend([lhand_strafing.max(), lhand_strafing.min(), lhand_strafing.median(), lhand_strafing.std()])\n",
    "                \n",
    "                rhand_x_offset = window_30s['RightHandPos_x'] - window_30s['RightHandPos_x'].mean()\n",
    "                rhand_z_offset = window_30s['RightHandPos_z'] - window_30s['RightHandPos_z'].mean()\n",
    "                rhand_angle = -circmean(window_30s['rhand_gamma'])\n",
    "                rhand_surging = rhand_z_offset * np.cos(rhand_angle) - rhand_x_offset * np.sin(rhand_angle)\n",
    "                rhand_strafing = rhand_z_offset * np.sin(rhand_angle) + rhand_x_offset * np.cos(rhand_angle)\n",
    "                \n",
    "                features_30s.extend([rhand_surging.max(), rhand_surging.min(), rhand_surging.median(), rhand_surging.std()])\n",
    "                features_30s.extend([rhand_strafing.max(), rhand_strafing.min(), rhand_strafing.median(), rhand_strafing.std()])\n",
    "                \n",
    "                X_train.append(features_30s)\n",
    "                y_train.append(playerIdx[name])\n",
    "                \n",
    "                \n",
    "print('end time: ', time.strftime(\"%H:%M:%S\", time.localtime()))\n",
    "\n",
    "print(len(X_train))\n",
    "print(len(X_train[0]))\n",
    "print(len(y_train))"
   ]
  },
  {
   "cell_type": "code",
   "execution_count": 4,
   "id": "68e6b7e9",
   "metadata": {},
   "outputs": [
    {
     "name": "stdout",
     "output_type": "stream",
     "text": [
      "start time:  17:19:33\n",
      "Alonzo start time 17:19:34\n",
      "week7_3 start_time 17:19:34\n",
      "week8_3 start_time 17:20:34\n",
      "Jake start time 17:22:07\n",
      "week7_3 start_time 17:22:07\n",
      "week8_3 start_time 17:23:09\n",
      "Jordan start time 17:24:41\n",
      "week7_3 start_time 17:24:41\n",
      "week8_3 start_time 17:25:39\n",
      "justin start time 17:27:06\n",
      "week7_3 start_time 17:27:06\n",
      "week8_3 start_time 17:28:07\n",
      "Alex start time 17:29:40\n",
      "week7_3 start_time 17:29:40\n",
      "week8_3 start_time 17:30:41\n",
      "Isabelle start time 17:32:14\n",
      "week7_3 start_time 17:32:14\n",
      "week8_3 start_time 17:33:12\n",
      "Emily start time 17:33:12\n",
      "week7_3 start_time 17:33:12\n",
      "week8_3 start_time 17:34:08\n",
      "Philip start time 17:35:31\n",
      "week7_3 start_time 17:35:31\n",
      "week8_3 start_time 17:36:17\n",
      "Dax start time 17:37:29\n",
      "week7_3 start_time 17:37:29\n",
      "week8_3 start_time 17:38:09\n",
      "Rishab start time 17:39:19\n",
      "week7_3 start_time 17:39:19\n",
      "week8_3 start_time 17:39:21\n",
      "end time:  17:40:24\n",
      "121792\n",
      "84\n",
      "121792\n"
     ]
    }
   ],
   "source": [
    "playernames_test = all_weeks_test['PlayerName'].unique()\n",
    "recordingnames_test = all_weeks_test['RecordingName'].unique()\n",
    "\n",
    "X_test = []\n",
    "y_test = []\n",
    "\n",
    "head_q0, head_q1, head_q2, head_q3 = all_weeks_test['HeadRot_w'], all_weeks_test['HeadRot_x'], all_weeks_test['HeadRot_y'], all_weeks_test['HeadRot_z'], \n",
    "lhand_q0, lhand_q1, lhand_q2, lhand_q3 = all_weeks_test['LeftHandRot_w'], all_weeks_test['LeftHandRot_x'], all_weeks_test['LeftHandRot_y'], all_weeks_test['LeftHandRot_z'], \n",
    "rhand_q0, rhand_q1, rhand_q2, rhand_q3 = all_weeks_test['RightHandRot_w'], all_weeks_test['RightHandRot_x'], all_weeks_test['RightHandRot_y'], all_weeks_test['RightHandRot_z'], \n",
    "\n",
    "all_weeks_test['head_alpha'] = np.arctan2(2*(head_q0*head_q1+head_q2*head_q3), 1-2*(head_q1**2+head_q2**2))\n",
    "all_weeks_test['head_beta'] = np.arcsin(2*(head_q0*head_q2-head_q3*head_q1))\n",
    "all_weeks_test['head_gamma'] = np.arctan2(2*(head_q0*head_q3+head_q1*head_q2), 1-2*(head_q2**2+head_q3**2))\n",
    "\n",
    "all_weeks_test['lhand_alpha'] = np.arctan2(2*(lhand_q0*lhand_q1+lhand_q2*lhand_q3), 1-2*(lhand_q1**2+lhand_q2**2))\n",
    "all_weeks_test['lhand_beta'] = np.arcsin(2*(lhand_q0*lhand_q2-lhand_q3*lhand_q1))\n",
    "all_weeks_test['lhand_gamma'] = np.arctan2(2*(lhand_q0*lhand_q3+lhand_q1*lhand_q2), 1-2*(lhand_q2**2+lhand_q3**2))\n",
    "\n",
    "all_weeks_test['rhand_alpha'] = np.arctan2(2*(rhand_q0*rhand_q1+rhand_q2*rhand_q3), 1-2*(rhand_q1**2+rhand_q2**2))\n",
    "all_weeks_test['rhand_beta'] = np.arcsin(2*(rhand_q0*rhand_q2-rhand_q3*rhand_q1))\n",
    "all_weeks_test['rhand_gamma'] = np.arctan2(2*(rhand_q0*rhand_q3+rhand_q1*rhand_q2), 1-2*(rhand_q2**2+rhand_q3**2))\n",
    "\n",
    "euler_angles = ['head_alpha', 'head_beta', 'head_gamma', \n",
    "                'lhand_alpha', 'lhand_beta', 'lhand_gamma', \n",
    "                'rhand_alpha', 'rhand_beta', 'rhand_gamma']\n",
    "\n",
    "print('start time: ', time.strftime(\"%H:%M:%S\", time.localtime()))\n",
    "\n",
    "for name in playernames_test:\n",
    "    player_df = all_weeks_test[all_weeks_test['PlayerName'] == name]\n",
    "        \n",
    "    print(name, 'start time', time.strftime(\"%H:%M:%S\", time.localtime()))\n",
    "    \n",
    "    \n",
    "    for recording_name in recordingnames_test:\n",
    "        recording_df = player_df[player_df['RecordingName'] == recording_name]\n",
    "\n",
    "        print(recording_name, 'start_time', time.strftime(\"%H:%M:%S\", time.localtime()))\n",
    "\n",
    "        for i in range(0, recording_df.shape[0], 30):\n",
    "            features_1s, features_3s, features_10s, features_30s = [], [], [], []\n",
    "\n",
    "            window_1s = None\n",
    "            window_3s = None\n",
    "            window_10s = None\n",
    "            window_30s = None\n",
    "\n",
    "            if i < recording_df.shape[0] - 29:\n",
    "                window_1s = recording_df.iloc[i : i + 29]\n",
    "            if i < recording_df.shape[0] - 89:\n",
    "                window_3s = recording_df.iloc[i : i + 89]\n",
    "            if i < recording_df.shape[0] - 299:\n",
    "                window_10s = recording_df.iloc[i : i + 299]\n",
    "            if i < recording_df.shape[0] - 899:\n",
    "                window_30s = recording_df.iloc[i : i + 899]\n",
    "\n",
    "            for column_name in translations:\n",
    "                if window_1s is not None:\n",
    "                    column = window_1s[column_name]\n",
    "                    features_1s.extend([column.max(), column.min(), column.median(), column.mean(), column.std()])\n",
    "                if window_3s is not None:\n",
    "                    column = window_3s[column_name]\n",
    "                    features_3s.extend([column.max(), column.min(), column.median(), column.mean(), column.std()])\n",
    "                if window_10s is not None:\n",
    "                    column = window_10s[column_name]\n",
    "                    features_10s.extend([column.max(), column.min(), column.median(), column.mean(), column.std()])\n",
    "                if window_30s is not None:\n",
    "                    column = window_30s[column_name]\n",
    "                    features_30s.extend([column.max(), column.min(), column.median(), column.mean(), column.std()])\n",
    "\n",
    "            for column_name in euler_angles:\n",
    "                if window_1s is not None:\n",
    "                    column = window_1s[column_name]\n",
    "                    features_1s.extend([column.max(), column.min(), column.median(), column.mean(), column.std()])\n",
    "                if window_3s is not None:\n",
    "                    column = window_3s[column_name]\n",
    "                    features_3s.extend([column.max(), column.min(), column.median(), column.mean(), column.std()])\n",
    "                if window_10s is not None:\n",
    "                    column = window_10s[column_name]\n",
    "                    features_10s.extend([column.max(), column.min(), column.median(), column.mean(), column.std()])\n",
    "                if window_30s is not None:\n",
    "                    column = window_30s[column_name]\n",
    "                    features_30s.extend([column.max(), column.min(), column.median(), column.mean(), column.std()])\n",
    "            \n",
    "            \n",
    "            if window_1s is not None:\n",
    "                head_x_offset = window_1s['HeadPos_x'] - window_1s['HeadPos_x'].mean()\n",
    "                head_z_offset = window_1s['HeadPos_z'] - window_1s['HeadPos_z'].mean()\n",
    "                head_angle = -circmean(window_1s['head_gamma'])\n",
    "                head_surging = head_z_offset * np.cos(head_angle) - head_x_offset * np.sin(head_angle)\n",
    "                head_strafing = head_z_offset * np.sin(head_angle) + head_x_offset * np.cos(head_angle)\n",
    "                \n",
    "                features_1s.extend([head_surging.max(), head_surging.min(), head_surging.median(), head_surging.std()])\n",
    "                features_1s.extend([head_strafing.max(), head_strafing.min(), head_strafing.median(), head_strafing.std()])\n",
    "                \n",
    "                lhand_x_offset = window_1s['LeftHandPos_x'] - window_1s['LeftHandPos_x'].mean()\n",
    "                lhand_z_offset = window_1s['LeftHandPos_z'] - window_1s['LeftHandPos_z'].mean()\n",
    "                lhand_angle = -circmean(window_1s['lhand_gamma'])\n",
    "                lhand_surging = lhand_z_offset * np.cos(lhand_angle) - lhand_x_offset * np.sin(lhand_angle)\n",
    "                lhand_strafing = lhand_z_offset * np.sin(lhand_angle) + lhand_x_offset * np.cos(lhand_angle)\n",
    "                \n",
    "                features_1s.extend([lhand_surging.max(), lhand_surging.min(), lhand_surging.median(), lhand_surging.std()])\n",
    "                features_1s.extend([lhand_strafing.max(), lhand_strafing.min(), lhand_strafing.median(), lhand_strafing.std()])\n",
    "                \n",
    "                rhand_x_offset = window_1s['RightHandPos_x'] - window_1s['RightHandPos_x'].mean()\n",
    "                rhand_z_offset = window_1s['RightHandPos_z'] - window_1s['RightHandPos_z'].mean()\n",
    "                rhand_angle = -circmean(window_1s['rhand_gamma'])\n",
    "                rhand_surging = rhand_z_offset * np.cos(rhand_angle) - rhand_x_offset * np.sin(rhand_angle)\n",
    "                rhand_strafing = rhand_z_offset * np.sin(rhand_angle) + rhand_x_offset * np.cos(rhand_angle)\n",
    "                \n",
    "                features_1s.extend([rhand_surging.max(), rhand_surging.min(), rhand_surging.median(), rhand_surging.std()])\n",
    "                features_1s.extend([rhand_strafing.max(), rhand_strafing.min(), rhand_strafing.median(), rhand_strafing.std()])\n",
    "                \n",
    "                X_test.append(features_1s)\n",
    "                y_test.append(playerIdx[name])\n",
    "                \n",
    "            if window_3s is not None:\n",
    "                head_x_offset = window_3s['HeadPos_x'] - window_3s['HeadPos_x'].mean()\n",
    "                head_z_offset = window_3s['HeadPos_z'] - window_3s['HeadPos_z'].mean()\n",
    "                head_angle = -circmean(window_3s['head_gamma'])\n",
    "                head_surging = head_z_offset * np.cos(head_angle) - head_x_offset * np.sin(head_angle)\n",
    "                head_strafing = head_z_offset * np.sin(head_angle) + head_x_offset * np.cos(head_angle)\n",
    "                \n",
    "                features_3s.extend([head_surging.max(), head_surging.min(), head_surging.median(), head_surging.std()])\n",
    "                features_3s.extend([head_strafing.max(), head_strafing.min(), head_strafing.median(), head_strafing.std()])\n",
    "                \n",
    "                lhand_x_offset = window_3s['LeftHandPos_x'] - window_3s['LeftHandPos_x'].mean()\n",
    "                lhand_z_offset = window_3s['LeftHandPos_z'] - window_3s['LeftHandPos_z'].mean()\n",
    "                lhand_angle = -circmean(window_3s['lhand_gamma'])\n",
    "                lhand_surging = lhand_z_offset * np.cos(lhand_angle) - lhand_x_offset * np.sin(lhand_angle)\n",
    "                lhand_strafing = lhand_z_offset * np.sin(lhand_angle) + lhand_x_offset * np.cos(lhand_angle)\n",
    "                \n",
    "                features_3s.extend([lhand_surging.max(), lhand_surging.min(), lhand_surging.median(), lhand_surging.std()])\n",
    "                features_3s.extend([lhand_strafing.max(), lhand_strafing.min(), lhand_strafing.median(), lhand_strafing.std()])\n",
    "                \n",
    "                rhand_x_offset = window_3s['RightHandPos_x'] - window_3s['RightHandPos_x'].mean()\n",
    "                rhand_z_offset = window_3s['RightHandPos_z'] - window_3s['RightHandPos_z'].mean()\n",
    "                rhand_angle = -circmean(window_3s['rhand_gamma'])\n",
    "                rhand_surging = rhand_z_offset * np.cos(rhand_angle) - rhand_x_offset * np.sin(rhand_angle)\n",
    "                rhand_strafing = rhand_z_offset * np.sin(rhand_angle) + rhand_x_offset * np.cos(rhand_angle)\n",
    "                \n",
    "                features_3s.extend([rhand_surging.max(), rhand_surging.min(), rhand_surging.median(), rhand_surging.std()])\n",
    "                features_3s.extend([rhand_strafing.max(), rhand_strafing.min(), rhand_strafing.median(), rhand_strafing.std()])\n",
    "                \n",
    "                X_test.append(features_3s)\n",
    "                y_test.append(playerIdx[name])\n",
    "                \n",
    "            if window_10s is not None:\n",
    "                head_x_offset = window_10s['HeadPos_x'] - window_10s['HeadPos_x'].mean()\n",
    "                head_z_offset = window_10s['HeadPos_z'] - window_10s['HeadPos_z'].mean()\n",
    "                head_angle = -circmean(window_10s['head_gamma'])\n",
    "                head_surging = head_z_offset * np.cos(head_angle) - head_x_offset * np.sin(head_angle)\n",
    "                head_strafing = head_z_offset * np.sin(head_angle) + head_x_offset * np.cos(head_angle)\n",
    "                \n",
    "                features_10s.extend([head_surging.max(), head_surging.min(), head_surging.median(), head_surging.std()])\n",
    "                features_10s.extend([head_strafing.max(), head_strafing.min(), head_strafing.median(), head_strafing.std()])\n",
    "                \n",
    "                lhand_x_offset = window_10s['LeftHandPos_x'] - window_10s['LeftHandPos_x'].mean()\n",
    "                lhand_z_offset = window_10s['LeftHandPos_z'] - window_10s['LeftHandPos_z'].mean()\n",
    "                lhand_angle = -circmean(window_10s['lhand_gamma'])\n",
    "                lhand_surging = lhand_z_offset * np.cos(lhand_angle) - lhand_x_offset * np.sin(lhand_angle)\n",
    "                lhand_strafing = lhand_z_offset * np.sin(lhand_angle) + lhand_x_offset * np.cos(lhand_angle)\n",
    "                \n",
    "                features_10s.extend([lhand_surging.max(), lhand_surging.min(), lhand_surging.median(), lhand_surging.std()])\n",
    "                features_10s.extend([lhand_strafing.max(), lhand_strafing.min(), lhand_strafing.median(), lhand_strafing.std()])\n",
    "                \n",
    "                rhand_x_offset = window_10s['RightHandPos_x'] - window_10s['RightHandPos_x'].mean()\n",
    "                rhand_z_offset = window_10s['RightHandPos_z'] - window_10s['RightHandPos_z'].mean()\n",
    "                rhand_angle = -circmean(window_10s['rhand_gamma'])\n",
    "                rhand_surging = rhand_z_offset * np.cos(rhand_angle) - rhand_x_offset * np.sin(rhand_angle)\n",
    "                rhand_strafing = rhand_z_offset * np.sin(rhand_angle) + rhand_x_offset * np.cos(rhand_angle)\n",
    "                \n",
    "                features_10s.extend([rhand_surging.max(), rhand_surging.min(), rhand_surging.median(), rhand_surging.std()])\n",
    "                features_10s.extend([rhand_strafing.max(), rhand_strafing.min(), rhand_strafing.median(), rhand_strafing.std()])\n",
    "                \n",
    "                X_test.append(features_10s)\n",
    "                y_test.append(playerIdx[name])\n",
    "                \n",
    "            if window_30s is not None:\n",
    "                head_x_offset = window_30s['HeadPos_x'] - window_30s['HeadPos_x'].mean()\n",
    "                head_z_offset = window_30s['HeadPos_z'] - window_30s['HeadPos_z'].mean()\n",
    "                head_angle = -circmean(window_30s['head_gamma'])\n",
    "                head_surging = head_z_offset * np.cos(head_angle) - head_x_offset * np.sin(head_angle)\n",
    "                head_strafing = head_z_offset * np.sin(head_angle) + head_x_offset * np.cos(head_angle)\n",
    "                \n",
    "                features_30s.extend([head_surging.max(), head_surging.min(), head_surging.median(), head_surging.std()])\n",
    "                features_30s.extend([head_strafing.max(), head_strafing.min(), head_strafing.median(), head_strafing.std()])\n",
    "                \n",
    "                lhand_x_offset = window_30s['LeftHandPos_x'] - window_30s['LeftHandPos_x'].mean()\n",
    "                lhand_z_offset = window_30s['LeftHandPos_z'] - window_30s['LeftHandPos_z'].mean()\n",
    "                lhand_angle = -circmean(window_30s['lhand_gamma'])\n",
    "                lhand_surging = lhand_z_offset * np.cos(lhand_angle) - lhand_x_offset * np.sin(lhand_angle)\n",
    "                lhand_strafing = lhand_z_offset * np.sin(lhand_angle) + lhand_x_offset * np.cos(lhand_angle)\n",
    "                \n",
    "                features_30s.extend([lhand_surging.max(), lhand_surging.min(), lhand_surging.median(), lhand_surging.std()])\n",
    "                features_30s.extend([lhand_strafing.max(), lhand_strafing.min(), lhand_strafing.median(), lhand_strafing.std()])\n",
    "                \n",
    "                rhand_x_offset = window_30s['RightHandPos_x'] - window_30s['RightHandPos_x'].mean()\n",
    "                rhand_z_offset = window_30s['RightHandPos_z'] - window_30s['RightHandPos_z'].mean()\n",
    "                rhand_angle = -circmean(window_30s['rhand_gamma'])\n",
    "                rhand_surging = rhand_z_offset * np.cos(rhand_angle) - rhand_x_offset * np.sin(rhand_angle)\n",
    "                rhand_strafing = rhand_z_offset * np.sin(rhand_angle) + rhand_x_offset * np.cos(rhand_angle)\n",
    "                \n",
    "                features_30s.extend([rhand_surging.max(), rhand_surging.min(), rhand_surging.median(), rhand_surging.std()])\n",
    "                features_30s.extend([rhand_strafing.max(), rhand_strafing.min(), rhand_strafing.median(), rhand_strafing.std()])\n",
    "                \n",
    "                X_test.append(features_30s)\n",
    "                y_test.append(playerIdx[name])\n",
    "                \n",
    "                \n",
    "print('end time: ', time.strftime(\"%H:%M:%S\", time.localtime()))\n",
    "\n",
    "print(len(X_test))\n",
    "print(len(X_test[0]))\n",
    "print(len(y_test))"
   ]
  },
  {
   "cell_type": "code",
   "execution_count": 5,
   "id": "85981a36",
   "metadata": {},
   "outputs": [],
   "source": [
    "scaler = StandardScaler()\n",
    "X_train_fitted = scaler.fit_transform(X_train)\n",
    "X_test_fitted = scaler.transform(X_test)"
   ]
  },
  {
   "cell_type": "code",
   "execution_count": 6,
   "id": "66863b81",
   "metadata": {},
   "outputs": [
    {
     "data": {
      "text/plain": [
       "RandomForestClassifier(criterion='entropy', random_state=42)"
      ]
     },
     "execution_count": 6,
     "metadata": {},
     "output_type": "execute_result"
    }
   ],
   "source": [
    "classifier = RandomForestClassifier(n_estimators = 100, criterion = 'entropy', random_state = 42)\n",
    "classifier.fit(X_train_fitted, y_train)"
   ]
  },
  {
   "cell_type": "code",
   "execution_count": 7,
   "id": "9f3bbe9d",
   "metadata": {},
   "outputs": [
    {
     "name": "stdout",
     "output_type": "stream",
     "text": [
      "0.4437812007356805\n"
     ]
    }
   ],
   "source": [
    "y_pred = classifier.predict(X_test_fitted)\n",
    "print(accuracy_score(y_test, y_pred))"
   ]
  },
  {
   "cell_type": "raw",
   "id": "570ee1e9",
   "metadata": {},
   "source": [
    "baseline paper random forest - 0.753683056114056\n",
    "with euler angles - 0.7577044140253276\n",
    "\n",
    "\n",
    "baseline random forest week1-6/7-8 split - 0.39764344931131274\n",
    "with euler angles, surging/strafing - 0.4437812007356805"
   ]
  },
  {
   "cell_type": "markdown",
   "id": "8bbf7be6",
   "metadata": {},
   "source": [
    "center the windows on a point\n",
    "points are every 30 frames instead of for example 900 frames"
   ]
  },
  {
   "cell_type": "markdown",
   "id": "caa4105f",
   "metadata": {},
   "source": [
    "9 histograms, one for each of the calculated euler angles, for each of the frames before preprocessing"
   ]
  },
  {
   "cell_type": "markdown",
   "id": "d1780bbb",
   "metadata": {},
   "source": [
    "circmean high low -pi pi"
   ]
  },
  {
   "cell_type": "markdown",
   "id": "56c2b32d",
   "metadata": {},
   "source": [
    "1/3 of a second for velocity (10 frames regardless of window)"
   ]
  },
  {
   "cell_type": "markdown",
   "id": "d60f8435",
   "metadata": {},
   "source": [
    "no7 expand beyond just median to diff quartiles"
   ]
  },
  {
   "cell_type": "code",
   "execution_count": 9,
   "id": "d651f470",
   "metadata": {},
   "outputs": [
    {
     "data": {
      "image/png": "[encoded data removed]",
      "text/plain": [
       "<Figure size 432x288 with 1 Axes>"
      ]
     },
     "metadata": {
      "needs_background": "light"
     },
     "output_type": "display_data"
    },
    {
     "data": {
      "image/png": "[encoded data removed]",
      "text/plain": [
       "<Figure size 432x288 with 1 Axes>"
      ]
     },
     "metadata": {
      "needs_background": "light"
     },
     "output_type": "display_data"
    },
    {
     "data": {
      "image/png": "[encoded data removed]",
      "text/plain": [
       "<Figure size 432x288 with 1 Axes>"
      ]
     },
     "metadata": {
      "needs_background": "light"
     },
     "output_type": "display_data"
    },
    {
     "data": {
      "image/png": "[encoded data removed]",
      "text/plain": [
       "<Figure size 432x288 with 1 Axes>"
      ]
     },
     "metadata": {
      "needs_background": "light"
     },
     "output_type": "display_data"
    },
    {
     "data": {
      "image/png": "[encoded data removed]",
      "text/plain": [
       "<Figure size 432x288 with 1 Axes>"
      ]
     },
     "metadata": {
      "needs_background": "light"
     },
     "output_type": "display_data"
    },
    {
     "data": {
      "image/png": "[encoded data removed]",
      "text/plain": [
       "<Figure size 432x288 with 1 Axes>"
      ]
     },
     "metadata": {
      "needs_background": "light"
     },
     "output_type": "display_data"
    },
    {
     "data": {
      "image/png": "[encoded data removed]",
      "text/plain": [
       "<Figure size 432x288 with 1 Axes>"
      ]
     },
     "metadata": {
      "needs_background": "light"
     },
     "output_type": "display_data"
    },
    {
     "data": {
      "image/png": "[encoded data removed]",
      "text/plain": [
       "<Figure size 432x288 with 1 Axes>"
      ]
     },
     "metadata": {
      "needs_background": "light"
     },
     "output_type": "display_data"
    },
    {
     "data": {
      "image/png": "[encoded data removed]",
      "text/plain": [
       "<Figure size 432x288 with 1 Axes>"
      ]
     },
     "metadata": {
      "needs_background": "light"
     },
     "output_type": "display_data"
    }
   ],
   "source": [
    "import matplotlib.pyplot as plt\n",
    "\n",
    "for angle in euler_angles:\n",
    "    plt.hist(all_weeks_train[angle])\n",
    "    plt.title(angle)\n",
    "    plt.show()"
   ]
  },
  {
   "cell_type": "code",
   "execution_count": 10,
   "id": "7f3f4afa",
   "metadata": {},
   "outputs": [
    {
     "data": {
      "image/png": "[encoded data removed]",
      "text/plain": [
       "<Figure size 432x288 with 1 Axes>"
      ]
     },
     "metadata": {
      "needs_background": "light"
     },
     "output_type": "display_data"
    },
    {
     "data": {
      "image/png": "[encoded data removed]",
      "text/plain": [
       "<Figure size 432x288 with 1 Axes>"
      ]
     },
     "metadata": {
      "needs_background": "light"
     },
     "output_type": "display_data"
    },
    {
     "data": {
      "image/png": "[encoded data removed]",
      "text/plain": [
       "<Figure size 432x288 with 1 Axes>"
      ]
     },
     "metadata": {
      "needs_background": "light"
     },
     "output_type": "display_data"
    },
    {
     "data": {
      "image/png": "[encoded data removed]",
      "text/plain": [
       "<Figure size 432x288 with 1 Axes>"
      ]
     },
     "metadata": {
      "needs_background": "light"
     },
     "output_type": "display_data"
    },
    {
     "data": {
      "image/png": "[encoded data removed]",
      "text/plain": [
       "<Figure size 432x288 with 1 Axes>"
      ]
     },
     "metadata": {
      "needs_background": "light"
     },
     "output_type": "display_data"
    },
    {
     "data": {
      "image/png": "[encoded data removed]",
      "text/plain": [
       "<Figure size 432x288 with 1 Axes>"
      ]
     },
     "metadata": {
      "needs_background": "light"
     },
     "output_type": "display_data"
    },
    {
     "data": {
      "image/png": "[encoded data removed]",
      "text/plain": [
       "<Figure size 432x288 with 1 Axes>"
      ]
     },
     "metadata": {
      "needs_background": "light"
     },
     "output_type": "display_data"
    },
    {
     "data": {
      "image/png": "[encoded data removed]",
      "text/plain": [
       "<Figure size 432x288 with 1 Axes>"
      ]
     },
     "metadata": {
      "needs_background": "light"
     },
     "output_type": "display_data"
    },
    {
     "data": {
      "image/png": "[encoded data removed]",
      "text/plain": [
       "<Figure size 432x288 with 1 Axes>"
      ]
     },
     "metadata": {
      "needs_background": "light"
     },
     "output_type": "display_data"
    }
   ],
   "source": [
    "for angle in euler_angles:\n",
    "    plt.hist(all_weeks_test[angle])\n",
    "    plt.title(angle)\n",
    "    plt.show()"
   ]
  },
  {
   "cell_type": "code",
   "execution_count": null,
   "id": "0e24660a",
   "metadata": {},
   "outputs": [],
   "source": []
  }
 ],
 "metadata": {
  "kernelspec": {
   "display_name": "Python 3 (ipykernel)",
   "language": "python",
   "name": "python3"
  },
  "language_info": {
   "codemirror_mode": {
    "name": "ipython",
    "version": 3
   },
   "file_extension": ".py",
   "mimetype": "text/x-python",
   "name": "python",
   "nbconvert_exporter": "python",
   "pygments_lexer": "ipython3",
   "version": "3.8.5"
  }
 },
 "nbformat": 4,
 "nbformat_minor": 5
}
